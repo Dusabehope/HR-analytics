{
 "cells": [
  {
   "cell_type": "code",
   "execution_count": 22,
   "id": "4195a16d-3a5a-4530-bd33-78ec2179ca7e",
   "metadata": {},
   "outputs": [],
   "source": [
    "import pandas as pd\n",
    "import numpy as np \n",
    "import os\n",
    "import plotly.express as px"
   ]
  },
  {
   "cell_type": "code",
   "execution_count": 23,
   "id": "246e7250-d36f-46b5-ae45-4b1eabf4d8f6",
   "metadata": {},
   "outputs": [],
   "source": [
    "#get working directory\n",
    "current_dir = os.getcwd()\n",
    "\n",
    "# Go one directory up to the root directory\n",
    "project_root_dir = os.path.dirname(current_dir)\n",
    "\n",
    "#define paths to the data folders\n",
    "data_dir = os.path.join(project_root_dir,'data')\n",
    "raw_dir = os.path.join(data_dir,'raw')\n",
    "processed_dir = os.path.join(data_dir,'processed') \n",
    "\n",
    "# define path results folder \n",
    "results_dir = os.path.join(project_root_dir,'results')\n",
    "\n",
    "# define paths to docs folder\n",
    "docs_dir = os.path.join(project_root_dir,'docs')\n",
    "\n",
    "# Create directories if they do not exit\n",
    "os.makedirs(raw_dir, exist_ok = True) \n",
    "os.makedirs(processed_dir, exist_ok = True) \n",
    "os.makedirs(results_dir, exist_ok = True)\n",
    "os.makedirs(docs_dir, exist_ok = True)"
   ]
  },
  {
   "cell_type": "code",
   "execution_count": 24,
   "id": "4c2c509f-c985-467d-9474-1777b5f4320a",
   "metadata": {},
   "outputs": [
    {
     "data": {
      "text/html": [
       "<div>\n",
       "<style scoped>\n",
       "    .dataframe tbody tr th:only-of-type {\n",
       "        vertical-align: middle;\n",
       "    }\n",
       "\n",
       "    .dataframe tbody tr th {\n",
       "        vertical-align: top;\n",
       "    }\n",
       "\n",
       "    .dataframe thead th {\n",
       "        text-align: right;\n",
       "    }\n",
       "</style>\n",
       "<table border=\"1\" class=\"dataframe\">\n",
       "  <thead>\n",
       "    <tr style=\"text-align: right;\">\n",
       "      <th></th>\n",
       "      <th>EmpID</th>\n",
       "      <th>Age</th>\n",
       "      <th>AgeGroup</th>\n",
       "      <th>Attrition</th>\n",
       "      <th>BusinessTravel</th>\n",
       "      <th>DailyRate</th>\n",
       "      <th>Department</th>\n",
       "      <th>DistanceFromHome</th>\n",
       "      <th>Education</th>\n",
       "      <th>EducationField</th>\n",
       "      <th>...</th>\n",
       "      <th>YearsAtCompany</th>\n",
       "      <th>YearsInCurrentRole</th>\n",
       "      <th>YearsSinceLastPromotion</th>\n",
       "      <th>YearsWithCurrManager</th>\n",
       "      <th>Education_Level</th>\n",
       "      <th>JobLevelLabel</th>\n",
       "      <th>JobInvolveLabel</th>\n",
       "      <th>StockOptionLevel_Description</th>\n",
       "      <th>RelationshipSatisfaction_Label</th>\n",
       "      <th>WorkLifeLabel</th>\n",
       "    </tr>\n",
       "  </thead>\n",
       "  <tbody>\n",
       "    <tr>\n",
       "      <th>0</th>\n",
       "      <td>RM297</td>\n",
       "      <td>18</td>\n",
       "      <td>18-25</td>\n",
       "      <td>Yes</td>\n",
       "      <td>Travel_Rarely</td>\n",
       "      <td>230</td>\n",
       "      <td>Research &amp; Development</td>\n",
       "      <td>3</td>\n",
       "      <td>3</td>\n",
       "      <td>Life Sciences</td>\n",
       "      <td>...</td>\n",
       "      <td>0</td>\n",
       "      <td>0</td>\n",
       "      <td>0</td>\n",
       "      <td>0.0</td>\n",
       "      <td>Bachelor</td>\n",
       "      <td>Junior</td>\n",
       "      <td>Senior</td>\n",
       "      <td>No Stock Options</td>\n",
       "      <td>Good</td>\n",
       "      <td>Good</td>\n",
       "    </tr>\n",
       "    <tr>\n",
       "      <th>1</th>\n",
       "      <td>RM302</td>\n",
       "      <td>18</td>\n",
       "      <td>18-25</td>\n",
       "      <td>No</td>\n",
       "      <td>Travel_Rarely</td>\n",
       "      <td>812</td>\n",
       "      <td>Sales</td>\n",
       "      <td>10</td>\n",
       "      <td>3</td>\n",
       "      <td>Medical</td>\n",
       "      <td>...</td>\n",
       "      <td>0</td>\n",
       "      <td>0</td>\n",
       "      <td>0</td>\n",
       "      <td>0.0</td>\n",
       "      <td>Bachelor</td>\n",
       "      <td>Junior</td>\n",
       "      <td>Intermediate</td>\n",
       "      <td>No Stock Options</td>\n",
       "      <td>Few</td>\n",
       "      <td>Good</td>\n",
       "    </tr>\n",
       "    <tr>\n",
       "      <th>2</th>\n",
       "      <td>RM458</td>\n",
       "      <td>18</td>\n",
       "      <td>18-25</td>\n",
       "      <td>Yes</td>\n",
       "      <td>Travel_Frequently</td>\n",
       "      <td>1306</td>\n",
       "      <td>Sales</td>\n",
       "      <td>5</td>\n",
       "      <td>3</td>\n",
       "      <td>Marketing</td>\n",
       "      <td>...</td>\n",
       "      <td>0</td>\n",
       "      <td>0</td>\n",
       "      <td>0</td>\n",
       "      <td>0.0</td>\n",
       "      <td>Bachelor</td>\n",
       "      <td>Junior</td>\n",
       "      <td>Senior</td>\n",
       "      <td>No Stock Options</td>\n",
       "      <td>Very Good</td>\n",
       "      <td>Good</td>\n",
       "    </tr>\n",
       "    <tr>\n",
       "      <th>3</th>\n",
       "      <td>RM728</td>\n",
       "      <td>18</td>\n",
       "      <td>18-25</td>\n",
       "      <td>No</td>\n",
       "      <td>Non-Travel</td>\n",
       "      <td>287</td>\n",
       "      <td>Research &amp; Development</td>\n",
       "      <td>5</td>\n",
       "      <td>2</td>\n",
       "      <td>Life Sciences</td>\n",
       "      <td>...</td>\n",
       "      <td>0</td>\n",
       "      <td>0</td>\n",
       "      <td>0</td>\n",
       "      <td>0.0</td>\n",
       "      <td>College</td>\n",
       "      <td>Junior</td>\n",
       "      <td>Senior</td>\n",
       "      <td>No Stock Options</td>\n",
       "      <td>Very Good</td>\n",
       "      <td>Good</td>\n",
       "    </tr>\n",
       "    <tr>\n",
       "      <th>4</th>\n",
       "      <td>RM829</td>\n",
       "      <td>18</td>\n",
       "      <td>18-25</td>\n",
       "      <td>Yes</td>\n",
       "      <td>Non-Travel</td>\n",
       "      <td>247</td>\n",
       "      <td>Research &amp; Development</td>\n",
       "      <td>8</td>\n",
       "      <td>1</td>\n",
       "      <td>Medical</td>\n",
       "      <td>...</td>\n",
       "      <td>0</td>\n",
       "      <td>0</td>\n",
       "      <td>0</td>\n",
       "      <td>0.0</td>\n",
       "      <td>Below College</td>\n",
       "      <td>Junior</td>\n",
       "      <td>Senior</td>\n",
       "      <td>No Stock Options</td>\n",
       "      <td>Very Good</td>\n",
       "      <td>Good</td>\n",
       "    </tr>\n",
       "    <tr>\n",
       "      <th>5</th>\n",
       "      <td>RM973</td>\n",
       "      <td>18</td>\n",
       "      <td>18-25</td>\n",
       "      <td>No</td>\n",
       "      <td>Non-Travel</td>\n",
       "      <td>1124</td>\n",
       "      <td>Research &amp; Development</td>\n",
       "      <td>1</td>\n",
       "      <td>3</td>\n",
       "      <td>Life Sciences</td>\n",
       "      <td>...</td>\n",
       "      <td>0</td>\n",
       "      <td>0</td>\n",
       "      <td>0</td>\n",
       "      <td>0.0</td>\n",
       "      <td>Bachelor</td>\n",
       "      <td>Junior</td>\n",
       "      <td>Senior</td>\n",
       "      <td>No Stock Options</td>\n",
       "      <td>Good</td>\n",
       "      <td>Excellent</td>\n",
       "    </tr>\n",
       "    <tr>\n",
       "      <th>6</th>\n",
       "      <td>RM1154</td>\n",
       "      <td>18</td>\n",
       "      <td>18-25</td>\n",
       "      <td>Yes</td>\n",
       "      <td>Travel_Frequently</td>\n",
       "      <td>544</td>\n",
       "      <td>Sales</td>\n",
       "      <td>3</td>\n",
       "      <td>2</td>\n",
       "      <td>Medical</td>\n",
       "      <td>...</td>\n",
       "      <td>0</td>\n",
       "      <td>0</td>\n",
       "      <td>0</td>\n",
       "      <td>0.0</td>\n",
       "      <td>College</td>\n",
       "      <td>Junior</td>\n",
       "      <td>Senior</td>\n",
       "      <td>No Stock Options</td>\n",
       "      <td>Good</td>\n",
       "      <td>Excellent</td>\n",
       "    </tr>\n",
       "    <tr>\n",
       "      <th>7</th>\n",
       "      <td>RM1312</td>\n",
       "      <td>18</td>\n",
       "      <td>18-25</td>\n",
       "      <td>No</td>\n",
       "      <td>Non-Travel</td>\n",
       "      <td>1431</td>\n",
       "      <td>Research &amp; Development</td>\n",
       "      <td>14</td>\n",
       "      <td>3</td>\n",
       "      <td>Medical</td>\n",
       "      <td>...</td>\n",
       "      <td>0</td>\n",
       "      <td>0</td>\n",
       "      <td>0</td>\n",
       "      <td>0.0</td>\n",
       "      <td>Bachelor</td>\n",
       "      <td>Junior</td>\n",
       "      <td>Senior</td>\n",
       "      <td>No Stock Options</td>\n",
       "      <td>Good</td>\n",
       "      <td>Poor</td>\n",
       "    </tr>\n",
       "    <tr>\n",
       "      <th>8</th>\n",
       "      <td>RM128</td>\n",
       "      <td>19</td>\n",
       "      <td>18-25</td>\n",
       "      <td>Yes</td>\n",
       "      <td>Travel_Rarely</td>\n",
       "      <td>528</td>\n",
       "      <td>Sales</td>\n",
       "      <td>22</td>\n",
       "      <td>1</td>\n",
       "      <td>Marketing</td>\n",
       "      <td>...</td>\n",
       "      <td>0</td>\n",
       "      <td>0</td>\n",
       "      <td>0</td>\n",
       "      <td>0.0</td>\n",
       "      <td>Below College</td>\n",
       "      <td>Junior</td>\n",
       "      <td>Senior</td>\n",
       "      <td>No Stock Options</td>\n",
       "      <td>Very Good</td>\n",
       "      <td>Fair</td>\n",
       "    </tr>\n",
       "    <tr>\n",
       "      <th>9</th>\n",
       "      <td>RM150</td>\n",
       "      <td>19</td>\n",
       "      <td>18-25</td>\n",
       "      <td>No</td>\n",
       "      <td>Travel_Rarely</td>\n",
       "      <td>1181</td>\n",
       "      <td>Research &amp; Development</td>\n",
       "      <td>3</td>\n",
       "      <td>1</td>\n",
       "      <td>Medical</td>\n",
       "      <td>...</td>\n",
       "      <td>1</td>\n",
       "      <td>0</td>\n",
       "      <td>0</td>\n",
       "      <td>0.0</td>\n",
       "      <td>Below College</td>\n",
       "      <td>Junior</td>\n",
       "      <td>Senior</td>\n",
       "      <td>No Stock Options</td>\n",
       "      <td>Very Good</td>\n",
       "      <td>Good</td>\n",
       "    </tr>\n",
       "  </tbody>\n",
       "</table>\n",
       "<p>10 rows × 39 columns</p>\n",
       "</div>"
      ],
      "text/plain": [
       "    EmpID  Age AgeGroup Attrition     BusinessTravel  DailyRate  \\\n",
       "0   RM297   18    18-25       Yes      Travel_Rarely        230   \n",
       "1   RM302   18    18-25        No      Travel_Rarely        812   \n",
       "2   RM458   18    18-25       Yes  Travel_Frequently       1306   \n",
       "3   RM728   18    18-25        No         Non-Travel        287   \n",
       "4   RM829   18    18-25       Yes         Non-Travel        247   \n",
       "5   RM973   18    18-25        No         Non-Travel       1124   \n",
       "6  RM1154   18    18-25       Yes  Travel_Frequently        544   \n",
       "7  RM1312   18    18-25        No         Non-Travel       1431   \n",
       "8   RM128   19    18-25       Yes      Travel_Rarely        528   \n",
       "9   RM150   19    18-25        No      Travel_Rarely       1181   \n",
       "\n",
       "               Department  DistanceFromHome  Education EducationField  ...  \\\n",
       "0  Research & Development                 3          3  Life Sciences  ...   \n",
       "1                   Sales                10          3        Medical  ...   \n",
       "2                   Sales                 5          3      Marketing  ...   \n",
       "3  Research & Development                 5          2  Life Sciences  ...   \n",
       "4  Research & Development                 8          1        Medical  ...   \n",
       "5  Research & Development                 1          3  Life Sciences  ...   \n",
       "6                   Sales                 3          2        Medical  ...   \n",
       "7  Research & Development                14          3        Medical  ...   \n",
       "8                   Sales                22          1      Marketing  ...   \n",
       "9  Research & Development                 3          1        Medical  ...   \n",
       "\n",
       "   YearsAtCompany YearsInCurrentRole  YearsSinceLastPromotion  \\\n",
       "0               0                  0                        0   \n",
       "1               0                  0                        0   \n",
       "2               0                  0                        0   \n",
       "3               0                  0                        0   \n",
       "4               0                  0                        0   \n",
       "5               0                  0                        0   \n",
       "6               0                  0                        0   \n",
       "7               0                  0                        0   \n",
       "8               0                  0                        0   \n",
       "9               1                  0                        0   \n",
       "\n",
       "   YearsWithCurrManager  Education_Level JobLevelLabel  JobInvolveLabel  \\\n",
       "0                   0.0         Bachelor        Junior           Senior   \n",
       "1                   0.0         Bachelor        Junior     Intermediate   \n",
       "2                   0.0         Bachelor        Junior           Senior   \n",
       "3                   0.0          College        Junior           Senior   \n",
       "4                   0.0    Below College        Junior           Senior   \n",
       "5                   0.0         Bachelor        Junior           Senior   \n",
       "6                   0.0          College        Junior           Senior   \n",
       "7                   0.0         Bachelor        Junior           Senior   \n",
       "8                   0.0    Below College        Junior           Senior   \n",
       "9                   0.0    Below College        Junior           Senior   \n",
       "\n",
       "  StockOptionLevel_Description  RelationshipSatisfaction_Label  WorkLifeLabel  \n",
       "0             No Stock Options                            Good           Good  \n",
       "1             No Stock Options                             Few           Good  \n",
       "2             No Stock Options                       Very Good           Good  \n",
       "3             No Stock Options                       Very Good           Good  \n",
       "4             No Stock Options                       Very Good           Good  \n",
       "5             No Stock Options                            Good      Excellent  \n",
       "6             No Stock Options                            Good      Excellent  \n",
       "7             No Stock Options                            Good           Poor  \n",
       "8             No Stock Options                       Very Good           Fair  \n",
       "9             No Stock Options                       Very Good           Good  \n",
       "\n",
       "[10 rows x 39 columns]"
      ]
     },
     "execution_count": 24,
     "metadata": {},
     "output_type": "execute_result"
    }
   ],
   "source": [
    "HR_Analytics_filename = os.path.join(processed_dir, \"cleaned1.csv\")\n",
    "HR_Analytics_df = pd.read_csv(HR_Analytics_filename)\n",
    "HR_Analytics_df.head(10)"
   ]
  },
  {
   "cell_type": "code",
   "execution_count": 25,
   "id": "c2277a49-d9a6-4b9c-bc9d-eabec02981a3",
   "metadata": {},
   "outputs": [
    {
     "data": {
      "text/plain": [
       "(1473, 39)"
      ]
     },
     "execution_count": 25,
     "metadata": {},
     "output_type": "execute_result"
    }
   ],
   "source": [
    "HR_Analytics_df.shape"
   ]
  },
  {
   "cell_type": "code",
   "execution_count": 26,
   "id": "77e4e074-c9ba-4312-9915-0aa00e616cfe",
   "metadata": {},
   "outputs": [
    {
     "name": "stdout",
     "output_type": "stream",
     "text": [
      "<class 'pandas.core.frame.DataFrame'>\n",
      "RangeIndex: 1473 entries, 0 to 1472\n",
      "Data columns (total 39 columns):\n",
      " #   Column                          Non-Null Count  Dtype \n",
      "---  ------                          --------------  ----- \n",
      " 0   EmpID                           1473 non-null   object\n",
      " 1   Age                             1473 non-null   int64 \n",
      " 2   AgeGroup                        1473 non-null   object\n",
      " 3   Attrition                       1473 non-null   object\n",
      " 4   BusinessTravel                  1473 non-null   object\n",
      " 5   DailyRate                       1473 non-null   int64 \n",
      " 6   Department                      1473 non-null   object\n",
      " 7   DistanceFromHome                1473 non-null   int64 \n",
      " 8   Education                       1473 non-null   int64 \n",
      " 9   EducationField                  1473 non-null   object\n",
      " 10  EnvSatisfaction                 1473 non-null   int64 \n",
      " 11  Gender                          1473 non-null   object\n",
      " 12  HourlyRate                      1473 non-null   int64 \n",
      " 13  JobInvolvement                  1473 non-null   int64 \n",
      " 14  JobLevel                        1473 non-null   int64 \n",
      " 15  JobRole                         1473 non-null   object\n",
      " 16  JobSatisfaction                 1473 non-null   int64 \n",
      " 17  MaritalStatus                   1473 non-null   object\n",
      " 18  MonthlyIncome                   1473 non-null   int64 \n",
      " 19  MonthlyRate                     1473 non-null   int64 \n",
      " 20  NumCompaniesWorked              1473 non-null   int64 \n",
      " 21  OverTime                        1473 non-null   object\n",
      " 22  PercentSalaryHike               1473 non-null   int64 \n",
      " 23  PerformanceRating               1473 non-null   int64 \n",
      " 24  RelationshipSatisfaction        1473 non-null   int64 \n",
      " 25  StockOptionLevel                1473 non-null   int64 \n",
      " 26  TotalWorkingYears               1473 non-null   int64 \n",
      " 27  TrainingTimesLastYear           1473 non-null   int64 \n",
      " 28  WorkLifeBalance                 1473 non-null   int64 \n",
      " 29  YearsAtCompany                  1473 non-null   int64 \n",
      " 30  YearsInCurrentRole              1473 non-null   int64 \n",
      " 31  YearsSinceLastPromotion         1473 non-null   int64 \n",
      " 32  YearsWithCurrManager            1473 non-null   object\n",
      " 33  Education_Level                 1473 non-null   object\n",
      " 34  JobLevelLabel                   1473 non-null   object\n",
      " 35  JobInvolveLabel                 1473 non-null   object\n",
      " 36  StockOptionLevel_Description    1473 non-null   object\n",
      " 37  RelationshipSatisfaction_Label  1473 non-null   object\n",
      " 38  WorkLifeLabel                   1473 non-null   object\n",
      "dtypes: int64(22), object(17)\n",
      "memory usage: 448.9+ KB\n"
     ]
    }
   ],
   "source": [
    "HR_Analytics_df.info()"
   ]
  },
  {
   "cell_type": "code",
   "execution_count": 27,
   "id": "8c50f441-f676-4c6f-9ad6-0667454a6b48",
   "metadata": {},
   "outputs": [
    {
     "data": {
      "text/plain": [
       "EmpID                             0\n",
       "Age                               0\n",
       "AgeGroup                          0\n",
       "Attrition                         0\n",
       "BusinessTravel                    0\n",
       "DailyRate                         0\n",
       "Department                        0\n",
       "DistanceFromHome                  0\n",
       "Education                         0\n",
       "EducationField                    0\n",
       "EnvSatisfaction                   0\n",
       "Gender                            0\n",
       "HourlyRate                        0\n",
       "JobInvolvement                    0\n",
       "JobLevel                          0\n",
       "JobRole                           0\n",
       "JobSatisfaction                   0\n",
       "MaritalStatus                     0\n",
       "MonthlyIncome                     0\n",
       "MonthlyRate                       0\n",
       "NumCompaniesWorked                0\n",
       "OverTime                          0\n",
       "PercentSalaryHike                 0\n",
       "PerformanceRating                 0\n",
       "RelationshipSatisfaction          0\n",
       "StockOptionLevel                  0\n",
       "TotalWorkingYears                 0\n",
       "TrainingTimesLastYear             0\n",
       "WorkLifeBalance                   0\n",
       "YearsAtCompany                    0\n",
       "YearsInCurrentRole                0\n",
       "YearsSinceLastPromotion           0\n",
       "YearsWithCurrManager              0\n",
       "Education_Level                   0\n",
       "JobLevelLabel                     0\n",
       "JobInvolveLabel                   0\n",
       "StockOptionLevel_Description      0\n",
       "RelationshipSatisfaction_Label    0\n",
       "WorkLifeLabel                     0\n",
       "dtype: int64"
      ]
     },
     "execution_count": 27,
     "metadata": {},
     "output_type": "execute_result"
    }
   ],
   "source": [
    "HR_Analytics_df.isnull().sum()"
   ]
  },
  {
   "cell_type": "code",
   "execution_count": 30,
   "id": "57e87195-a29f-44c3-b0df-a82e8abcf491",
   "metadata": {},
   "outputs": [],
   "source": [
    "HR_Analytics_df['YearsWithCurrManager']=HR_Analytics_df['YearsWithCurrManager'].fillna('unknown')"
   ]
  },
  {
   "cell_type": "code",
   "execution_count": 31,
   "id": "0663991f-d1cf-4ebf-8f25-25b57fcb78eb",
   "metadata": {},
   "outputs": [
    {
     "data": {
      "text/plain": [
       "EmpID                             0\n",
       "Age                               0\n",
       "AgeGroup                          0\n",
       "Attrition                         0\n",
       "BusinessTravel                    0\n",
       "DailyRate                         0\n",
       "Department                        0\n",
       "DistanceFromHome                  0\n",
       "Education                         0\n",
       "EducationField                    0\n",
       "EnvSatisfaction                   0\n",
       "Gender                            0\n",
       "HourlyRate                        0\n",
       "JobInvolvement                    0\n",
       "JobLevel                          0\n",
       "JobRole                           0\n",
       "JobSatisfaction                   0\n",
       "MaritalStatus                     0\n",
       "MonthlyIncome                     0\n",
       "MonthlyRate                       0\n",
       "NumCompaniesWorked                0\n",
       "OverTime                          0\n",
       "PercentSalaryHike                 0\n",
       "PerformanceRating                 0\n",
       "RelationshipSatisfaction          0\n",
       "StockOptionLevel                  0\n",
       "TotalWorkingYears                 0\n",
       "TrainingTimesLastYear             0\n",
       "WorkLifeBalance                   0\n",
       "YearsAtCompany                    0\n",
       "YearsInCurrentRole                0\n",
       "YearsSinceLastPromotion           0\n",
       "YearsWithCurrManager              0\n",
       "Education_Level                   0\n",
       "JobLevelLabel                     0\n",
       "JobInvolveLabel                   0\n",
       "StockOptionLevel_Description      0\n",
       "RelationshipSatisfaction_Label    0\n",
       "WorkLifeLabel                     0\n",
       "dtype: int64"
      ]
     },
     "execution_count": 31,
     "metadata": {},
     "output_type": "execute_result"
    }
   ],
   "source": [
    "HR_Analytics_df.isnull().sum()"
   ]
  },
  {
   "cell_type": "code",
   "execution_count": 32,
   "id": "8affc38c-cdc6-4c4b-b603-d785d5341ab6",
   "metadata": {},
   "outputs": [
    {
     "data": {
      "text/plain": [
       "0"
      ]
     },
     "execution_count": 32,
     "metadata": {},
     "output_type": "execute_result"
    }
   ],
   "source": [
    "HR_Analytics_df.duplicated().sum()"
   ]
  },
  {
   "cell_type": "code",
   "execution_count": 33,
   "id": "2e4c208e-9a5d-4a30-b663-67b7110cd673",
   "metadata": {},
   "outputs": [
    {
     "data": {
      "text/html": [
       "<div>\n",
       "<style scoped>\n",
       "    .dataframe tbody tr th:only-of-type {\n",
       "        vertical-align: middle;\n",
       "    }\n",
       "\n",
       "    .dataframe tbody tr th {\n",
       "        vertical-align: top;\n",
       "    }\n",
       "\n",
       "    .dataframe thead th {\n",
       "        text-align: right;\n",
       "    }\n",
       "</style>\n",
       "<table border=\"1\" class=\"dataframe\">\n",
       "  <thead>\n",
       "    <tr style=\"text-align: right;\">\n",
       "      <th></th>\n",
       "      <th>EmpID</th>\n",
       "      <th>Age</th>\n",
       "      <th>AgeGroup</th>\n",
       "      <th>Attrition</th>\n",
       "      <th>BusinessTravel</th>\n",
       "      <th>DailyRate</th>\n",
       "      <th>Department</th>\n",
       "      <th>DistanceFromHome</th>\n",
       "      <th>Education</th>\n",
       "      <th>EducationField</th>\n",
       "      <th>...</th>\n",
       "      <th>YearsAtCompany</th>\n",
       "      <th>YearsInCurrentRole</th>\n",
       "      <th>YearsSinceLastPromotion</th>\n",
       "      <th>YearsWithCurrManager</th>\n",
       "      <th>Education_Level</th>\n",
       "      <th>JobLevelLabel</th>\n",
       "      <th>JobInvolveLabel</th>\n",
       "      <th>StockOptionLevel_Description</th>\n",
       "      <th>RelationshipSatisfaction_Label</th>\n",
       "      <th>WorkLifeLabel</th>\n",
       "    </tr>\n",
       "  </thead>\n",
       "  <tbody>\n",
       "  </tbody>\n",
       "</table>\n",
       "<p>0 rows × 39 columns</p>\n",
       "</div>"
      ],
      "text/plain": [
       "Empty DataFrame\n",
       "Columns: [EmpID, Age, AgeGroup, Attrition, BusinessTravel, DailyRate, Department, DistanceFromHome, Education, EducationField, EnvSatisfaction, Gender, HourlyRate, JobInvolvement, JobLevel, JobRole, JobSatisfaction, MaritalStatus, MonthlyIncome, MonthlyRate, NumCompaniesWorked, OverTime, PercentSalaryHike, PerformanceRating, RelationshipSatisfaction, StockOptionLevel, TotalWorkingYears, TrainingTimesLastYear, WorkLifeBalance, YearsAtCompany, YearsInCurrentRole, YearsSinceLastPromotion, YearsWithCurrManager, Education_Level, JobLevelLabel, JobInvolveLabel, StockOptionLevel_Description, RelationshipSatisfaction_Label, WorkLifeLabel]\n",
       "Index: []\n",
       "\n",
       "[0 rows x 39 columns]"
      ]
     },
     "execution_count": 33,
     "metadata": {},
     "output_type": "execute_result"
    }
   ],
   "source": [
    "HR_Analytics_df[HR_Analytics_df.duplicated(keep=False)]"
   ]
  },
  {
   "cell_type": "code",
   "execution_count": 34,
   "id": "27584985-4c2a-404e-9f6a-72be12b140fc",
   "metadata": {},
   "outputs": [],
   "source": [
    "HR_Analytics_df= HR_Analytics_df.drop_duplicates()"
   ]
  },
  {
   "cell_type": "code",
   "execution_count": 35,
   "id": "6378ae2c-de87-4d85-b6e4-358499842437",
   "metadata": {},
   "outputs": [
    {
     "data": {
      "text/plain": [
       "0"
      ]
     },
     "execution_count": 35,
     "metadata": {},
     "output_type": "execute_result"
    }
   ],
   "source": [
    "HR_Analytics_df.duplicated().sum()"
   ]
  },
  {
   "cell_type": "code",
   "execution_count": 36,
   "id": "9f3bf36e-ca9e-4a7d-b5c5-de9beb716182",
   "metadata": {},
   "outputs": [
    {
     "data": {
      "text/plain": [
       "(1473, 39)"
      ]
     },
     "execution_count": 36,
     "metadata": {},
     "output_type": "execute_result"
    }
   ],
   "source": [
    "HR_Analytics_df.shape"
   ]
  },
  {
   "cell_type": "code",
   "execution_count": 37,
   "id": "b8e4ecaa-f727-43e2-b5a8-bace3cf897c9",
   "metadata": {},
   "outputs": [
    {
     "data": {
      "text/plain": [
       "EmpID                              True\n",
       "Age                               False\n",
       "AgeGroup                           True\n",
       "Attrition                          True\n",
       "BusinessTravel                     True\n",
       "DailyRate                         False\n",
       "Department                         True\n",
       "DistanceFromHome                  False\n",
       "Education                         False\n",
       "EducationField                     True\n",
       "EnvSatisfaction                   False\n",
       "Gender                             True\n",
       "HourlyRate                        False\n",
       "JobInvolvement                    False\n",
       "JobLevel                          False\n",
       "JobRole                            True\n",
       "JobSatisfaction                   False\n",
       "MaritalStatus                      True\n",
       "MonthlyIncome                     False\n",
       "MonthlyRate                       False\n",
       "NumCompaniesWorked                False\n",
       "OverTime                           True\n",
       "PercentSalaryHike                 False\n",
       "PerformanceRating                 False\n",
       "RelationshipSatisfaction          False\n",
       "StockOptionLevel                  False\n",
       "TotalWorkingYears                 False\n",
       "TrainingTimesLastYear             False\n",
       "WorkLifeBalance                   False\n",
       "YearsAtCompany                    False\n",
       "YearsInCurrentRole                False\n",
       "YearsSinceLastPromotion           False\n",
       "YearsWithCurrManager               True\n",
       "Education_Level                    True\n",
       "JobLevelLabel                      True\n",
       "JobInvolveLabel                    True\n",
       "StockOptionLevel_Description       True\n",
       "RelationshipSatisfaction_Label     True\n",
       "WorkLifeLabel                      True\n",
       "dtype: bool"
      ]
     },
     "execution_count": 37,
     "metadata": {},
     "output_type": "execute_result"
    }
   ],
   "source": [
    "HR_Analytics_df.dtypes == object"
   ]
  },
  {
   "cell_type": "code",
   "execution_count": null,
   "id": "28318480-505f-4aa1-bc6e-dcdb9482b5fc",
   "metadata": {},
   "outputs": [],
   "source": [
    "#HR_Analytics.drop(columns=['Over18', 'SalarySlab', 'EmployeeCount', 'StandardHours', 'EmployeeNumber'], inplace= True)"
   ]
  },
  {
   "cell_type": "code",
   "execution_count": 38,
   "id": "8e4a35f9-f0c0-4989-a4fa-b3aa9ab72d1c",
   "metadata": {},
   "outputs": [
    {
     "data": {
      "text/plain": [
       "Index(['EmpID', 'Age', 'AgeGroup', 'Attrition', 'BusinessTravel', 'DailyRate',\n",
       "       'Department', 'DistanceFromHome', 'Education', 'EducationField',\n",
       "       'EnvSatisfaction', 'Gender', 'HourlyRate', 'JobInvolvement', 'JobLevel',\n",
       "       'JobRole', 'JobSatisfaction', 'MaritalStatus', 'MonthlyIncome',\n",
       "       'MonthlyRate', 'NumCompaniesWorked', 'OverTime', 'PercentSalaryHike',\n",
       "       'PerformanceRating', 'RelationshipSatisfaction', 'StockOptionLevel',\n",
       "       'TotalWorkingYears', 'TrainingTimesLastYear', 'WorkLifeBalance',\n",
       "       'YearsAtCompany', 'YearsInCurrentRole', 'YearsSinceLastPromotion',\n",
       "       'YearsWithCurrManager', 'Education_Level', 'JobLevelLabel',\n",
       "       'JobInvolveLabel', 'StockOptionLevel_Description',\n",
       "       'RelationshipSatisfaction_Label', 'WorkLifeLabel'],\n",
       "      dtype='object')"
      ]
     },
     "execution_count": 38,
     "metadata": {},
     "output_type": "execute_result"
    }
   ],
   "source": [
    "HR_Analytics_df.columns"
   ]
  },
  {
   "cell_type": "code",
   "execution_count": 39,
   "id": "0f3d977b-2b5b-4baa-b1dd-685dd58c9966",
   "metadata": {},
   "outputs": [
    {
     "data": {
      "text/plain": [
       "(1473, 39)"
      ]
     },
     "execution_count": 39,
     "metadata": {},
     "output_type": "execute_result"
    }
   ],
   "source": [
    "HR_Analytics_df.shape"
   ]
  },
  {
   "cell_type": "code",
   "execution_count": 40,
   "id": "2f822df2-bec3-424d-9f34-40ed28de3911",
   "metadata": {},
   "outputs": [
    {
     "data": {
      "text/plain": [
       "Index(['EmpID', 'Age', 'AgeGroup', 'Attrition', 'BusinessTravel', 'DailyRate',\n",
       "       'Department', 'DistanceFromHome', 'Education', 'EducationField',\n",
       "       'EnvSatisfaction', 'Gender', 'HourlyRate', 'JobInvolvement', 'JobLevel',\n",
       "       'JobRole', 'JobSatisfaction', 'MaritalStatus', 'MonthlyIncome',\n",
       "       'MonthlyRate', 'NumCompaniesWorked', 'OverTime', 'PercentSalaryHike',\n",
       "       'PerformanceRating', 'RelationshipSatisfaction', 'StockOptionLevel',\n",
       "       'TotalWorkingYears', 'TrainingTimesLastYear', 'WorkLifeBalance',\n",
       "       'YearsAtCompany', 'YearsInCurrentRole', 'YearsSinceLastPromotion',\n",
       "       'YearsWithCurrManager', 'Education_Level', 'JobLevelLabel',\n",
       "       'JobInvolveLabel', 'StockOptionLevel_Description',\n",
       "       'RelationshipSatisfaction_Label', 'WorkLifeLabel'],\n",
       "      dtype='object')"
      ]
     },
     "execution_count": 40,
     "metadata": {},
     "output_type": "execute_result"
    }
   ],
   "source": [
    "HR_Analytics_df.columns"
   ]
  },
  {
   "cell_type": "code",
   "execution_count": 41,
   "id": "c36d686c-3182-4e22-a7e8-127a0c98be83",
   "metadata": {},
   "outputs": [
    {
     "data": {
      "text/plain": [
       "array([3, 2, 1, 4, 5], dtype=int64)"
      ]
     },
     "execution_count": 41,
     "metadata": {},
     "output_type": "execute_result"
    }
   ],
   "source": [
    "HR_Analytics_df['Education'].unique()"
   ]
  },
  {
   "cell_type": "code",
   "execution_count": 43,
   "id": "53fd2ccc-a4de-48fb-a065-2c5914e485cb",
   "metadata": {},
   "outputs": [],
   "source": [
    "education_map = {\n",
    "    1: 'Below College',\n",
    "    2: 'College',\n",
    "    3: 'Bachelor',\n",
    "    4: 'Master',\n",
    "    5: 'Doctor'\n",
    "}"
   ]
  },
  {
   "cell_type": "code",
   "execution_count": 44,
   "id": "a229fb0c-d41b-4fe1-9546-5057bad8b669",
   "metadata": {},
   "outputs": [],
   "source": [
    "HR_Analytics_df['Education_Level'] = HR_Analytics_df['Education'].map(education_map) "
   ]
  },
  {
   "cell_type": "code",
   "execution_count": 45,
   "id": "7881731d-1111-43ec-b15b-402905a7796d",
   "metadata": {},
   "outputs": [
    {
     "data": {
      "text/plain": [
       "array(['Bachelor', 'College', 'Below College', 'Master', 'Doctor'],\n",
       "      dtype=object)"
      ]
     },
     "execution_count": 45,
     "metadata": {},
     "output_type": "execute_result"
    }
   ],
   "source": [
    "HR_Analytics_df['Education_Level'].unique()"
   ]
  },
  {
   "cell_type": "code",
   "execution_count": 46,
   "id": "ef7eeb48-263c-4c64-9e22-85bfeb866eee",
   "metadata": {},
   "outputs": [],
   "source": [
    "HR_Analytics_df.rename(columns={'EnvironmentSatisfaction': 'EnvSatisfaction'}, inplace=True)\n"
   ]
  },
  {
   "cell_type": "code",
   "execution_count": 47,
   "id": "b5a75818-ff37-4c3f-9767-c1556a6e0fa1",
   "metadata": {},
   "outputs": [
    {
     "data": {
      "text/plain": [
       "array([1, 2, 3, 4, 5], dtype=int64)"
      ]
     },
     "execution_count": 47,
     "metadata": {},
     "output_type": "execute_result"
    }
   ],
   "source": [
    "HR_Analytics_df['JobLevel'].unique()"
   ]
  },
  {
   "cell_type": "code",
   "execution_count": 48,
   "id": "2b0cf2ac-f8b5-4f87-9b11-74ea5fd25013",
   "metadata": {},
   "outputs": [],
   "source": [
    "job_level_map = {\n",
    "    1: 'Junior',\n",
    "    2: 'Intermediate',\n",
    "    3: 'Senior',\n",
    "    4: 'Manager',\n",
    "    5: 'Senior Executive'\n",
    "}"
   ]
  },
  {
   "cell_type": "code",
   "execution_count": 49,
   "id": "f316c39d-a214-439d-8aea-a1911934f94a",
   "metadata": {},
   "outputs": [],
   "source": [
    "HR_Analytics_df['JobLevelLabel'] = HR_Analytics_df['JobLevel'].map(job_level_map)"
   ]
  },
  {
   "cell_type": "code",
   "execution_count": 50,
   "id": "b8f36fb3-9856-4df1-9490-8e6e73fa8934",
   "metadata": {},
   "outputs": [
    {
     "data": {
      "text/plain": [
       "array(['Junior', 'Intermediate', 'Senior', 'Manager', 'Senior Executive'],\n",
       "      dtype=object)"
      ]
     },
     "execution_count": 50,
     "metadata": {},
     "output_type": "execute_result"
    }
   ],
   "source": [
    "HR_Analytics_df['JobLevelLabel'].unique()"
   ]
  },
  {
   "cell_type": "code",
   "execution_count": 51,
   "id": "7e6d9911-03e5-4644-b3d3-cb90aec5a811",
   "metadata": {},
   "outputs": [
    {
     "data": {
      "text/plain": [
       "array([3, 2, 1, 4], dtype=int64)"
      ]
     },
     "execution_count": 51,
     "metadata": {},
     "output_type": "execute_result"
    }
   ],
   "source": [
    "HR_Analytics_df['JobInvolvement'].unique()"
   ]
  },
  {
   "cell_type": "code",
   "execution_count": 52,
   "id": "b5a825f3-4b54-4c36-b674-60ba5db0eeb6",
   "metadata": {},
   "outputs": [],
   "source": [
    "job_involve_map = {\n",
    "    1: 'Low',\n",
    "    2: 'Medium',\n",
    "    3: 'High',\n",
    "    4: 'Very High'\n",
    "}"
   ]
  },
  {
   "cell_type": "code",
   "execution_count": 54,
   "id": "fb984e22-72e7-4e54-b23c-861a38ec0175",
   "metadata": {},
   "outputs": [],
   "source": [
    "HR_Analytics_df['JobInvolveLabel'] = HR_Analytics_df['JobInvolvement'].map(job_level_map)"
   ]
  },
  {
   "cell_type": "code",
   "execution_count": 55,
   "id": "4e3dd566-9be7-429c-82de-51912112666f",
   "metadata": {},
   "outputs": [
    {
     "data": {
      "text/plain": [
       "array(['Senior', 'Intermediate', 'Junior', 'Manager'], dtype=object)"
      ]
     },
     "execution_count": 55,
     "metadata": {},
     "output_type": "execute_result"
    }
   ],
   "source": [
    "HR_Analytics_df['JobInvolveLabel'].unique()"
   ]
  },
  {
   "cell_type": "code",
   "execution_count": 56,
   "id": "421d8128-3662-45b9-9fe1-01ec8f11f150",
   "metadata": {},
   "outputs": [
    {
     "data": {
      "text/plain": [
       "array([3, 2, 4, 1], dtype=int64)"
      ]
     },
     "execution_count": 56,
     "metadata": {},
     "output_type": "execute_result"
    }
   ],
   "source": [
    "HR_Analytics_df['JobSatisfaction'].unique()"
   ]
  },
  {
   "cell_type": "code",
   "execution_count": null,
   "id": "6bb0c948-0b05-4eb5-ad59-e771e2ad235d",
   "metadata": {},
   "outputs": [],
   "source": [
    "#job_satisfaction_map = {\n",
    "    #1: 'Poor',\n",
    "    #2: 'Fair',\n",
    "    #3: 'Good',\n",
    "    #4: 'Very Good'\n",
    "#}"
   ]
  },
  {
   "cell_type": "code",
   "execution_count": null,
   "id": "03c28ef5-0235-4cce-9c4b-2fd7a4d5712b",
   "metadata": {},
   "outputs": [],
   "source": [
    "#HR_Analytics.rename(columns={'JobSatisfaction': 'JobSatisfy_Level'}, inplace=True)\n",
    "#HR_Analytics['JobSatisfy_Label'] = HR_Analytics['JobSatisfy_Level'].map(job_satisfaction_map)"
   ]
  },
  {
   "cell_type": "code",
   "execution_count": null,
   "id": "12f23489-5d9b-49fa-8f68-cb2aa0653f35",
   "metadata": {},
   "outputs": [],
   "source": [
    "#HR_Analytics['JobSatisfy_Label'].unique()"
   ]
  },
  {
   "cell_type": "code",
   "execution_count": null,
   "id": "f3fa00e3-250e-4a08-8255-d9403bcfa416",
   "metadata": {},
   "outputs": [],
   "source": [
    "#HR_Analytics['PerformanceRating'].unique()"
   ]
  },
  {
   "cell_type": "code",
   "execution_count": null,
   "id": "34a82d17-e8d5-4937-a205-a95bf4dd2af8",
   "metadata": {},
   "outputs": [],
   "source": [
    "#performance_score_map = {\n",
    "    #3: 'Good',\n",
    "    #4: 'Excellent'\n",
    "#}"
   ]
  },
  {
   "cell_type": "code",
   "execution_count": null,
   "id": "89aaa8b8-ae26-4988-82fe-213b6c418b8d",
   "metadata": {},
   "outputs": [],
   "source": [
    "#HR_Analytics.rename(columns={'PerformanceRating': 'PerformanceScore'}, inplace=True)"
   ]
  },
  {
   "cell_type": "code",
   "execution_count": null,
   "id": "717c6c27-00ab-49be-ae06-c9f6c9c4b4f7",
   "metadata": {},
   "outputs": [],
   "source": [
    "#HR_Analytics['PerformanceLabel'] = HR_Analytics['PerformanceScore'].map(performance_score_map)"
   ]
  },
  {
   "cell_type": "code",
   "execution_count": null,
   "id": "08d71d04-358a-4946-b307-b5e9231bff4e",
   "metadata": {},
   "outputs": [],
   "source": [
    "#HR_Analytics['PerformanceLabel'].unique()"
   ]
  },
  {
   "cell_type": "code",
   "execution_count": 57,
   "id": "07d014fc-fd13-45f5-8d19-1f9eab16faa5",
   "metadata": {},
   "outputs": [
    {
     "data": {
      "text/plain": [
       "array([0, 2, 1, 3], dtype=int64)"
      ]
     },
     "execution_count": 57,
     "metadata": {},
     "output_type": "execute_result"
    }
   ],
   "source": [
    "HR_Analytics_df['StockOptionLevel'].unique()"
   ]
  },
  {
   "cell_type": "code",
   "execution_count": 59,
   "id": "89ab91d4-9c55-40f3-9d33-25e51eb4b4c1",
   "metadata": {},
   "outputs": [],
   "source": [
    "stock_option_map = {\n",
    "    0: 'No Stock Options',\n",
    "    1: 'Low Stock Options',\n",
    "    2: 'Medium Stock Options',\n",
    "    3: 'High Stock Options'\n",
    "}\n",
    "\n",
    "HR_Analytics_df['StockOptionLevel_Description'] = HR_Analytics_df['StockOptionLevel'].map(stock_option_map)"
   ]
  },
  {
   "cell_type": "code",
   "execution_count": 60,
   "id": "94ef2af5-34aa-4f7e-9fd2-2c1e1e761567",
   "metadata": {},
   "outputs": [
    {
     "data": {
      "text/plain": [
       "array(['No Stock Options', 'Medium Stock Options', 'Low Stock Options',\n",
       "       'High Stock Options'], dtype=object)"
      ]
     },
     "execution_count": 60,
     "metadata": {},
     "output_type": "execute_result"
    }
   ],
   "source": [
    "HR_Analytics_df['StockOptionLevel_Description'].unique()"
   ]
  },
  {
   "cell_type": "code",
   "execution_count": null,
   "id": "4bf76f0f-4f16-43c8-820a-e7ce28da9a34",
   "metadata": {},
   "outputs": [],
   "source": [
    "#HR_Analytics['TrainingTimesLastYear'].unique()"
   ]
  },
  {
   "cell_type": "code",
   "execution_count": null,
   "id": "c05797f2-bb16-486d-9d7f-009f54cf3180",
   "metadata": {},
   "outputs": [],
   "source": [
    "#training_map = {\n",
    " #0: 'No Training',\n",
    "  #  1: 'Few',\n",
    "   # 2: 'Moderate',\n",
    "    #3: 'Good',\n",
    "    #4: 'Very Good',\n",
    "    #5: 'Excellent',\n",
    "    #6: 'Exceptional'\n",
    "#}\n",
    "#HR_Analytics['TrainingsLastYear_Label'] = HR_Analytics['TrainingTimesLastYear'].map(training_map)"
   ]
  },
  {
   "cell_type": "code",
   "execution_count": null,
   "id": "67059aa4-46b6-427b-89e4-6e2243d3e014",
   "metadata": {},
   "outputs": [],
   "source": [
    "#HR_Analytics['TrainingsLastYear_Label'].unique()"
   ]
  },
  {
   "cell_type": "code",
   "execution_count": 61,
   "id": "a75d99c2-8545-4902-906c-c848fb77c883",
   "metadata": {},
   "outputs": [
    {
     "data": {
      "text/plain": [
       "array([3, 1, 4, 2], dtype=int64)"
      ]
     },
     "execution_count": 61,
     "metadata": {},
     "output_type": "execute_result"
    }
   ],
   "source": [
    "HR_Analytics_df['RelationshipSatisfaction'].unique()"
   ]
  },
  {
   "cell_type": "code",
   "execution_count": 62,
   "id": "6c8bc791-856d-4b4e-9e52-bd81a0e76229",
   "metadata": {},
   "outputs": [],
   "source": [
    "relation_map = {\n",
    "    1: 'Low',\n",
    "    2: 'Medium',\n",
    "    3: 'High',\n",
    "    4: 'Very High'\n",
    "}"
   ]
  },
  {
   "cell_type": "code",
   "execution_count": 64,
   "id": "235f7271-5759-4690-9d1a-57c6efd5b566",
   "metadata": {},
   "outputs": [],
   "source": [
    "HR_Analytics_df['RelationshipSatisfaction_Label'] = HR_Analytics_df['RelationshipSatisfaction'].map(relation_map)"
   ]
  },
  {
   "cell_type": "code",
   "execution_count": 65,
   "id": "dab6f11c-d2e4-4050-83ed-26a747cdc54f",
   "metadata": {},
   "outputs": [
    {
     "data": {
      "text/plain": [
       "array(['High', 'Low', 'Very High', 'Medium'], dtype=object)"
      ]
     },
     "execution_count": 65,
     "metadata": {},
     "output_type": "execute_result"
    }
   ],
   "source": [
    "HR_Analytics_df['RelationshipSatisfaction_Label'].unique()"
   ]
  },
  {
   "cell_type": "code",
   "execution_count": 66,
   "id": "767753b5-da47-41bd-916d-ae7c490ae14c",
   "metadata": {},
   "outputs": [
    {
     "data": {
      "text/plain": [
       "array([3, 4, 1, 2], dtype=int64)"
      ]
     },
     "execution_count": 66,
     "metadata": {},
     "output_type": "execute_result"
    }
   ],
   "source": [
    "HR_Analytics_df['WorkLifeBalance'].unique()"
   ]
  },
  {
   "cell_type": "code",
   "execution_count": 67,
   "id": "50b0ee40-1cd7-4faf-b667-3ea40bbb9f98",
   "metadata": {},
   "outputs": [],
   "source": [
    "work_life_map = {\n",
    "    1: 'Poor',\n",
    "    2: 'Fair',\n",
    "    3: 'Good',\n",
    "    4: 'Excellent'\n",
    "}"
   ]
  },
  {
   "cell_type": "code",
   "execution_count": 68,
   "id": "63863645-2dfa-4f7c-bb7c-7cdf824afde5",
   "metadata": {},
   "outputs": [],
   "source": [
    "HR_Analytics_df['WorkLifeLabel'] = HR_Analytics_df['WorkLifeBalance'].map(work_life_map)"
   ]
  },
  {
   "cell_type": "code",
   "execution_count": 69,
   "id": "dabc2009-0b71-4e6c-81b9-7dd5196fe7ea",
   "metadata": {},
   "outputs": [
    {
     "data": {
      "text/plain": [
       "array(['Good', 'Excellent', 'Poor', 'Fair'], dtype=object)"
      ]
     },
     "execution_count": 69,
     "metadata": {},
     "output_type": "execute_result"
    }
   ],
   "source": [
    "HR_Analytics_df['WorkLifeLabel'].unique()"
   ]
  },
  {
   "cell_type": "code",
   "execution_count": 70,
   "id": "69208bca-6295-46a6-92c5-9301e7429acd",
   "metadata": {},
   "outputs": [
    {
     "data": {
      "text/plain": [
       "Index(['EmpID', 'Age', 'AgeGroup', 'Attrition', 'BusinessTravel', 'DailyRate',\n",
       "       'Department', 'DistanceFromHome', 'Education', 'EducationField',\n",
       "       'EnvSatisfaction', 'Gender', 'HourlyRate', 'JobInvolvement', 'JobLevel',\n",
       "       'JobRole', 'JobSatisfaction', 'MaritalStatus', 'MonthlyIncome',\n",
       "       'MonthlyRate', 'NumCompaniesWorked', 'OverTime', 'PercentSalaryHike',\n",
       "       'PerformanceRating', 'RelationshipSatisfaction', 'StockOptionLevel',\n",
       "       'TotalWorkingYears', 'TrainingTimesLastYear', 'WorkLifeBalance',\n",
       "       'YearsAtCompany', 'YearsInCurrentRole', 'YearsSinceLastPromotion',\n",
       "       'YearsWithCurrManager', 'Education_Level', 'JobLevelLabel',\n",
       "       'JobInvolveLabel', 'StockOptionLevel_Description',\n",
       "       'RelationshipSatisfaction_Label', 'WorkLifeLabel'],\n",
       "      dtype='object')"
      ]
     },
     "execution_count": 70,
     "metadata": {},
     "output_type": "execute_result"
    }
   ],
   "source": [
    "HR_Analytics_df.columns"
   ]
  },
  {
   "cell_type": "code",
   "execution_count": null,
   "id": "d22efbed-d22c-47db-ba3c-123afa25c37d",
   "metadata": {},
   "outputs": [],
   "source": [
    "#HR_Analytics_df.to_csv(\"cleaned1_HR.csv\", index=False)"
   ]
  },
  {
   "cell_type": "code",
   "execution_count": null,
   "id": "9b257bdd-0421-42e5-b4a5-90e6a84ac990",
   "metadata": {},
   "outputs": [],
   "source": [
    "#HR_Analytics"
   ]
  },
  {
   "cell_type": "code",
   "execution_count": null,
   "id": "3b1cd969-efc6-4242-99db-6fc8e488cab7",
   "metadata": {},
   "outputs": [],
   "source": [
    "#HR_Analytics.drop(\n",
    " #   ['Education', 'JobLevel', 'JobInvolvement', 'StockOptionLevel',\n",
    "  #3    'RelationshipSatisfaction', 'WorkLifeBalance'],\n",
    "    #axis=1,\n",
    "    #errors='ignore',\n",
    "   # inplace=True\n",
    "#)\n"
   ]
  },
  {
   "cell_type": "code",
   "execution_count": 71,
   "id": "dab86ab8-7cca-4c0b-b5c9-336d5a9f3c6c",
   "metadata": {},
   "outputs": [
    {
     "data": {
      "text/plain": [
       "Index(['EmpID', 'Age', 'AgeGroup', 'Attrition', 'BusinessTravel', 'DailyRate',\n",
       "       'Department', 'DistanceFromHome', 'Education', 'EducationField',\n",
       "       'EnvSatisfaction', 'Gender', 'HourlyRate', 'JobInvolvement', 'JobLevel',\n",
       "       'JobRole', 'JobSatisfaction', 'MaritalStatus', 'MonthlyIncome',\n",
       "       'MonthlyRate', 'NumCompaniesWorked', 'OverTime', 'PercentSalaryHike',\n",
       "       'PerformanceRating', 'RelationshipSatisfaction', 'StockOptionLevel',\n",
       "       'TotalWorkingYears', 'TrainingTimesLastYear', 'WorkLifeBalance',\n",
       "       'YearsAtCompany', 'YearsInCurrentRole', 'YearsSinceLastPromotion',\n",
       "       'YearsWithCurrManager', 'Education_Level', 'JobLevelLabel',\n",
       "       'JobInvolveLabel', 'StockOptionLevel_Description',\n",
       "       'RelationshipSatisfaction_Label', 'WorkLifeLabel'],\n",
       "      dtype='object')"
      ]
     },
     "execution_count": 71,
     "metadata": {},
     "output_type": "execute_result"
    }
   ],
   "source": [
    "HR_Analytics_df.columns"
   ]
  },
  {
   "cell_type": "code",
   "execution_count": null,
   "id": "fccea493-99d9-4e6b-b217-a1ed90f80163",
   "metadata": {},
   "outputs": [],
   "source": [
    "#HR_Analytics.to_csv(\"cleaned_HR.csv\", index=False)"
   ]
  },
  {
   "cell_type": "code",
   "execution_count": 72,
   "id": "e52c7fa3-b79d-4d1d-a21a-39b48320bc4c",
   "metadata": {},
   "outputs": [
    {
     "name": "stdout",
     "output_type": "stream",
     "text": [
      "Attrition Rate: 16.09%\n"
     ]
    }
   ],
   "source": [
    "attrition_rate = (HR_Analytics_df['Attrition'].value_counts().get('Yes', 0) / len(HR_Analytics_df)) * 100\n",
    "print(f\"Attrition Rate: {attrition_rate:.2f}%\")\n"
   ]
  },
  {
   "cell_type": "code",
   "execution_count": 73,
   "id": "64f89282-dbbd-44e0-bd3e-949a67f96514",
   "metadata": {},
   "outputs": [
    {
     "name": "stdout",
     "output_type": "stream",
     "text": [
      "Average Tenure: 7.00 years\n"
     ]
    }
   ],
   "source": [
    "avg_tenure = HR_Analytics_df['YearsAtCompany'].mean()\n",
    "print(f\"Average Tenure: {avg_tenure:.2f} years\")\n"
   ]
  },
  {
   "cell_type": "code",
   "execution_count": 74,
   "id": "2f94a66f-093d-4497-859a-0fb8fa10d4ac",
   "metadata": {},
   "outputs": [
    {
     "name": "stdout",
     "output_type": "stream",
     "text": [
      "Average Job Satisfaction Score: 2.73\n"
     ]
    }
   ],
   "source": [
    "avg_satisfaction = HR_Analytics_df['JobSatisfaction'].mean()\n",
    "print(f\"Average Job Satisfaction Score: {avg_satisfaction:.2f}\")\n"
   ]
  },
  {
   "cell_type": "code",
   "execution_count": 75,
   "id": "f87c1254-468c-4be7-8688-d856385ebcce",
   "metadata": {},
   "outputs": [
    {
     "name": "stdout",
     "output_type": "stream",
     "text": [
      "PerformanceRating\n",
      "3    84.657162\n",
      "4    15.342838\n",
      "Name: proportion, dtype: float64\n"
     ]
    }
   ],
   "source": [
    "performance_dist = HR_Analytics_df['PerformanceRating'].value_counts(normalize=True) * 100\n",
    "print(performance_dist)\n"
   ]
  },
  {
   "cell_type": "code",
   "execution_count": null,
   "id": "561bba2f-b271-4ad9-9943-42c4edfc75dc",
   "metadata": {},
   "outputs": [],
   "source": [
    "#training_avg = HR_Analytics['TrainingLastYear_Label'].mean()\n",
    "#print(f\"Average Trainings Per Employee: {training_avg:.2f} times/year\")"
   ]
  },
  {
   "cell_type": "code",
   "execution_count": 76,
   "id": "a1a4934f-83e3-45e5-bf89-22c4c2808fd3",
   "metadata": {},
   "outputs": [
    {
     "name": "stdout",
     "output_type": "stream",
     "text": [
      "Promotion Rate: 39.58%\n"
     ]
    }
   ],
   "source": [
    "promoted_count = (HR_Analytics_df['YearsSinceLastPromotion'] == 0).sum()\n",
    "promotion_rate = (promoted_count / len(HR_Analytics_df)) * 100\n",
    "print(f\"Promotion Rate: {promotion_rate:.2f}%\")\n"
   ]
  },
  {
   "cell_type": "code",
   "execution_count": 77,
   "id": "9be31d8c-e42c-4c37-9bdd-604533e1944f",
   "metadata": {},
   "outputs": [
    {
     "data": {
      "text/plain": [
       "Index(['EmpID', 'Age', 'AgeGroup', 'Attrition', 'BusinessTravel', 'DailyRate',\n",
       "       'Department', 'DistanceFromHome', 'Education', 'EducationField',\n",
       "       'EnvSatisfaction', 'Gender', 'HourlyRate', 'JobInvolvement', 'JobLevel',\n",
       "       'JobRole', 'JobSatisfaction', 'MaritalStatus', 'MonthlyIncome',\n",
       "       'MonthlyRate', 'NumCompaniesWorked', 'OverTime', 'PercentSalaryHike',\n",
       "       'PerformanceRating', 'RelationshipSatisfaction', 'StockOptionLevel',\n",
       "       'TotalWorkingYears', 'TrainingTimesLastYear', 'WorkLifeBalance',\n",
       "       'YearsAtCompany', 'YearsInCurrentRole', 'YearsSinceLastPromotion',\n",
       "       'YearsWithCurrManager', 'Education_Level', 'JobLevelLabel',\n",
       "       'JobInvolveLabel', 'StockOptionLevel_Description',\n",
       "       'RelationshipSatisfaction_Label', 'WorkLifeLabel'],\n",
       "      dtype='object')"
      ]
     },
     "execution_count": 77,
     "metadata": {},
     "output_type": "execute_result"
    }
   ],
   "source": [
    "HR_Analytics_df.columns"
   ]
  },
  {
   "cell_type": "code",
   "execution_count": 78,
   "id": "31ae1274-8658-43e8-b69e-fabfa1ba8a61",
   "metadata": {},
   "outputs": [],
   "source": [
    "HR_Analytics_df.to_csv(\"Cleaned1.csv\", index=False)"
   ]
  },
  {
   "cell_type": "code",
   "execution_count": 79,
   "id": "3c6b830d-4d94-45f2-b442-8213dccce94b",
   "metadata": {},
   "outputs": [
    {
     "data": {
      "text/html": [
       "<div>\n",
       "<style scoped>\n",
       "    .dataframe tbody tr th:only-of-type {\n",
       "        vertical-align: middle;\n",
       "    }\n",
       "\n",
       "    .dataframe tbody tr th {\n",
       "        vertical-align: top;\n",
       "    }\n",
       "\n",
       "    .dataframe thead th {\n",
       "        text-align: right;\n",
       "    }\n",
       "</style>\n",
       "<table border=\"1\" class=\"dataframe\">\n",
       "  <thead>\n",
       "    <tr style=\"text-align: right;\">\n",
       "      <th></th>\n",
       "      <th>EmpID</th>\n",
       "      <th>Age</th>\n",
       "      <th>AgeGroup</th>\n",
       "      <th>Attrition</th>\n",
       "      <th>BusinessTravel</th>\n",
       "      <th>DailyRate</th>\n",
       "      <th>Department</th>\n",
       "      <th>DistanceFromHome</th>\n",
       "      <th>Education</th>\n",
       "      <th>EducationField</th>\n",
       "      <th>...</th>\n",
       "      <th>YearsAtCompany</th>\n",
       "      <th>YearsInCurrentRole</th>\n",
       "      <th>YearsSinceLastPromotion</th>\n",
       "      <th>YearsWithCurrManager</th>\n",
       "      <th>Education_Level</th>\n",
       "      <th>JobLevelLabel</th>\n",
       "      <th>JobInvolveLabel</th>\n",
       "      <th>StockOptionLevel_Description</th>\n",
       "      <th>RelationshipSatisfaction_Label</th>\n",
       "      <th>WorkLifeLabel</th>\n",
       "    </tr>\n",
       "  </thead>\n",
       "  <tbody>\n",
       "    <tr>\n",
       "      <th>0</th>\n",
       "      <td>RM297</td>\n",
       "      <td>18</td>\n",
       "      <td>18-25</td>\n",
       "      <td>Yes</td>\n",
       "      <td>Travel_Rarely</td>\n",
       "      <td>230</td>\n",
       "      <td>Research &amp; Development</td>\n",
       "      <td>3</td>\n",
       "      <td>3</td>\n",
       "      <td>Life Sciences</td>\n",
       "      <td>...</td>\n",
       "      <td>0</td>\n",
       "      <td>0</td>\n",
       "      <td>0</td>\n",
       "      <td>0.0</td>\n",
       "      <td>Bachelor</td>\n",
       "      <td>Junior</td>\n",
       "      <td>Senior</td>\n",
       "      <td>No Stock Options</td>\n",
       "      <td>High</td>\n",
       "      <td>Good</td>\n",
       "    </tr>\n",
       "    <tr>\n",
       "      <th>1</th>\n",
       "      <td>RM302</td>\n",
       "      <td>18</td>\n",
       "      <td>18-25</td>\n",
       "      <td>No</td>\n",
       "      <td>Travel_Rarely</td>\n",
       "      <td>812</td>\n",
       "      <td>Sales</td>\n",
       "      <td>10</td>\n",
       "      <td>3</td>\n",
       "      <td>Medical</td>\n",
       "      <td>...</td>\n",
       "      <td>0</td>\n",
       "      <td>0</td>\n",
       "      <td>0</td>\n",
       "      <td>0.0</td>\n",
       "      <td>Bachelor</td>\n",
       "      <td>Junior</td>\n",
       "      <td>Intermediate</td>\n",
       "      <td>No Stock Options</td>\n",
       "      <td>Low</td>\n",
       "      <td>Good</td>\n",
       "    </tr>\n",
       "    <tr>\n",
       "      <th>2</th>\n",
       "      <td>RM458</td>\n",
       "      <td>18</td>\n",
       "      <td>18-25</td>\n",
       "      <td>Yes</td>\n",
       "      <td>Travel_Frequently</td>\n",
       "      <td>1306</td>\n",
       "      <td>Sales</td>\n",
       "      <td>5</td>\n",
       "      <td>3</td>\n",
       "      <td>Marketing</td>\n",
       "      <td>...</td>\n",
       "      <td>0</td>\n",
       "      <td>0</td>\n",
       "      <td>0</td>\n",
       "      <td>0.0</td>\n",
       "      <td>Bachelor</td>\n",
       "      <td>Junior</td>\n",
       "      <td>Senior</td>\n",
       "      <td>No Stock Options</td>\n",
       "      <td>Very High</td>\n",
       "      <td>Good</td>\n",
       "    </tr>\n",
       "    <tr>\n",
       "      <th>3</th>\n",
       "      <td>RM728</td>\n",
       "      <td>18</td>\n",
       "      <td>18-25</td>\n",
       "      <td>No</td>\n",
       "      <td>Non-Travel</td>\n",
       "      <td>287</td>\n",
       "      <td>Research &amp; Development</td>\n",
       "      <td>5</td>\n",
       "      <td>2</td>\n",
       "      <td>Life Sciences</td>\n",
       "      <td>...</td>\n",
       "      <td>0</td>\n",
       "      <td>0</td>\n",
       "      <td>0</td>\n",
       "      <td>0.0</td>\n",
       "      <td>College</td>\n",
       "      <td>Junior</td>\n",
       "      <td>Senior</td>\n",
       "      <td>No Stock Options</td>\n",
       "      <td>Very High</td>\n",
       "      <td>Good</td>\n",
       "    </tr>\n",
       "    <tr>\n",
       "      <th>4</th>\n",
       "      <td>RM829</td>\n",
       "      <td>18</td>\n",
       "      <td>18-25</td>\n",
       "      <td>Yes</td>\n",
       "      <td>Non-Travel</td>\n",
       "      <td>247</td>\n",
       "      <td>Research &amp; Development</td>\n",
       "      <td>8</td>\n",
       "      <td>1</td>\n",
       "      <td>Medical</td>\n",
       "      <td>...</td>\n",
       "      <td>0</td>\n",
       "      <td>0</td>\n",
       "      <td>0</td>\n",
       "      <td>0.0</td>\n",
       "      <td>Below College</td>\n",
       "      <td>Junior</td>\n",
       "      <td>Senior</td>\n",
       "      <td>No Stock Options</td>\n",
       "      <td>Very High</td>\n",
       "      <td>Good</td>\n",
       "    </tr>\n",
       "    <tr>\n",
       "      <th>...</th>\n",
       "      <td>...</td>\n",
       "      <td>...</td>\n",
       "      <td>...</td>\n",
       "      <td>...</td>\n",
       "      <td>...</td>\n",
       "      <td>...</td>\n",
       "      <td>...</td>\n",
       "      <td>...</td>\n",
       "      <td>...</td>\n",
       "      <td>...</td>\n",
       "      <td>...</td>\n",
       "      <td>...</td>\n",
       "      <td>...</td>\n",
       "      <td>...</td>\n",
       "      <td>...</td>\n",
       "      <td>...</td>\n",
       "      <td>...</td>\n",
       "      <td>...</td>\n",
       "      <td>...</td>\n",
       "      <td>...</td>\n",
       "      <td>...</td>\n",
       "    </tr>\n",
       "    <tr>\n",
       "      <th>1468</th>\n",
       "      <td>RM412</td>\n",
       "      <td>60</td>\n",
       "      <td>55+</td>\n",
       "      <td>No</td>\n",
       "      <td>Travel_Rarely</td>\n",
       "      <td>422</td>\n",
       "      <td>Research &amp; Development</td>\n",
       "      <td>7</td>\n",
       "      <td>3</td>\n",
       "      <td>Life Sciences</td>\n",
       "      <td>...</td>\n",
       "      <td>29</td>\n",
       "      <td>8</td>\n",
       "      <td>11</td>\n",
       "      <td>10.0</td>\n",
       "      <td>Bachelor</td>\n",
       "      <td>Senior Executive</td>\n",
       "      <td>Senior</td>\n",
       "      <td>No Stock Options</td>\n",
       "      <td>Very High</td>\n",
       "      <td>Poor</td>\n",
       "    </tr>\n",
       "    <tr>\n",
       "      <th>1469</th>\n",
       "      <td>RM428</td>\n",
       "      <td>60</td>\n",
       "      <td>55+</td>\n",
       "      <td>No</td>\n",
       "      <td>Travel_Frequently</td>\n",
       "      <td>1499</td>\n",
       "      <td>Sales</td>\n",
       "      <td>28</td>\n",
       "      <td>3</td>\n",
       "      <td>Marketing</td>\n",
       "      <td>...</td>\n",
       "      <td>18</td>\n",
       "      <td>13</td>\n",
       "      <td>13</td>\n",
       "      <td>11.0</td>\n",
       "      <td>Bachelor</td>\n",
       "      <td>Senior</td>\n",
       "      <td>Intermediate</td>\n",
       "      <td>No Stock Options</td>\n",
       "      <td>Very High</td>\n",
       "      <td>Excellent</td>\n",
       "    </tr>\n",
       "    <tr>\n",
       "      <th>1470</th>\n",
       "      <td>RM537</td>\n",
       "      <td>60</td>\n",
       "      <td>55+</td>\n",
       "      <td>No</td>\n",
       "      <td>Travel_Rarely</td>\n",
       "      <td>1179</td>\n",
       "      <td>Sales</td>\n",
       "      <td>16</td>\n",
       "      <td>4</td>\n",
       "      <td>Marketing</td>\n",
       "      <td>...</td>\n",
       "      <td>2</td>\n",
       "      <td>2</td>\n",
       "      <td>2</td>\n",
       "      <td>2.0</td>\n",
       "      <td>Master</td>\n",
       "      <td>Intermediate</td>\n",
       "      <td>Senior</td>\n",
       "      <td>No Stock Options</td>\n",
       "      <td>Very High</td>\n",
       "      <td>Good</td>\n",
       "    </tr>\n",
       "    <tr>\n",
       "      <th>1471</th>\n",
       "      <td>RM880</td>\n",
       "      <td>60</td>\n",
       "      <td>55+</td>\n",
       "      <td>No</td>\n",
       "      <td>Travel_Rarely</td>\n",
       "      <td>696</td>\n",
       "      <td>Sales</td>\n",
       "      <td>7</td>\n",
       "      <td>4</td>\n",
       "      <td>Marketing</td>\n",
       "      <td>...</td>\n",
       "      <td>11</td>\n",
       "      <td>7</td>\n",
       "      <td>1</td>\n",
       "      <td>9.0</td>\n",
       "      <td>Master</td>\n",
       "      <td>Intermediate</td>\n",
       "      <td>Manager</td>\n",
       "      <td>Low Stock Options</td>\n",
       "      <td>Medium</td>\n",
       "      <td>Good</td>\n",
       "    </tr>\n",
       "    <tr>\n",
       "      <th>1472</th>\n",
       "      <td>RM1210</td>\n",
       "      <td>60</td>\n",
       "      <td>55+</td>\n",
       "      <td>No</td>\n",
       "      <td>Travel_Rarely</td>\n",
       "      <td>370</td>\n",
       "      <td>Research &amp; Development</td>\n",
       "      <td>1</td>\n",
       "      <td>4</td>\n",
       "      <td>Medical</td>\n",
       "      <td>...</td>\n",
       "      <td>1</td>\n",
       "      <td>0</td>\n",
       "      <td>0</td>\n",
       "      <td>0.0</td>\n",
       "      <td>Master</td>\n",
       "      <td>Senior</td>\n",
       "      <td>Junior</td>\n",
       "      <td>Low Stock Options</td>\n",
       "      <td>High</td>\n",
       "      <td>Excellent</td>\n",
       "    </tr>\n",
       "  </tbody>\n",
       "</table>\n",
       "<p>1473 rows × 39 columns</p>\n",
       "</div>"
      ],
      "text/plain": [
       "       EmpID  Age AgeGroup Attrition     BusinessTravel  DailyRate  \\\n",
       "0      RM297   18    18-25       Yes      Travel_Rarely        230   \n",
       "1      RM302   18    18-25        No      Travel_Rarely        812   \n",
       "2      RM458   18    18-25       Yes  Travel_Frequently       1306   \n",
       "3      RM728   18    18-25        No         Non-Travel        287   \n",
       "4      RM829   18    18-25       Yes         Non-Travel        247   \n",
       "...      ...  ...      ...       ...                ...        ...   \n",
       "1468   RM412   60      55+        No      Travel_Rarely        422   \n",
       "1469   RM428   60      55+        No  Travel_Frequently       1499   \n",
       "1470   RM537   60      55+        No      Travel_Rarely       1179   \n",
       "1471   RM880   60      55+        No      Travel_Rarely        696   \n",
       "1472  RM1210   60      55+        No      Travel_Rarely        370   \n",
       "\n",
       "                  Department  DistanceFromHome  Education EducationField  ...  \\\n",
       "0     Research & Development                 3          3  Life Sciences  ...   \n",
       "1                      Sales                10          3        Medical  ...   \n",
       "2                      Sales                 5          3      Marketing  ...   \n",
       "3     Research & Development                 5          2  Life Sciences  ...   \n",
       "4     Research & Development                 8          1        Medical  ...   \n",
       "...                      ...               ...        ...            ...  ...   \n",
       "1468  Research & Development                 7          3  Life Sciences  ...   \n",
       "1469                   Sales                28          3      Marketing  ...   \n",
       "1470                   Sales                16          4      Marketing  ...   \n",
       "1471                   Sales                 7          4      Marketing  ...   \n",
       "1472  Research & Development                 1          4        Medical  ...   \n",
       "\n",
       "      YearsAtCompany YearsInCurrentRole  YearsSinceLastPromotion  \\\n",
       "0                  0                  0                        0   \n",
       "1                  0                  0                        0   \n",
       "2                  0                  0                        0   \n",
       "3                  0                  0                        0   \n",
       "4                  0                  0                        0   \n",
       "...              ...                ...                      ...   \n",
       "1468              29                  8                       11   \n",
       "1469              18                 13                       13   \n",
       "1470               2                  2                        2   \n",
       "1471              11                  7                        1   \n",
       "1472               1                  0                        0   \n",
       "\n",
       "      YearsWithCurrManager  Education_Level     JobLevelLabel  \\\n",
       "0                      0.0         Bachelor            Junior   \n",
       "1                      0.0         Bachelor            Junior   \n",
       "2                      0.0         Bachelor            Junior   \n",
       "3                      0.0          College            Junior   \n",
       "4                      0.0    Below College            Junior   \n",
       "...                    ...              ...               ...   \n",
       "1468                  10.0         Bachelor  Senior Executive   \n",
       "1469                  11.0         Bachelor            Senior   \n",
       "1470                   2.0           Master      Intermediate   \n",
       "1471                   9.0           Master      Intermediate   \n",
       "1472                   0.0           Master            Senior   \n",
       "\n",
       "      JobInvolveLabel StockOptionLevel_Description  \\\n",
       "0              Senior             No Stock Options   \n",
       "1        Intermediate             No Stock Options   \n",
       "2              Senior             No Stock Options   \n",
       "3              Senior             No Stock Options   \n",
       "4              Senior             No Stock Options   \n",
       "...               ...                          ...   \n",
       "1468           Senior             No Stock Options   \n",
       "1469     Intermediate             No Stock Options   \n",
       "1470           Senior             No Stock Options   \n",
       "1471          Manager            Low Stock Options   \n",
       "1472           Junior            Low Stock Options   \n",
       "\n",
       "      RelationshipSatisfaction_Label  WorkLifeLabel  \n",
       "0                               High           Good  \n",
       "1                                Low           Good  \n",
       "2                          Very High           Good  \n",
       "3                          Very High           Good  \n",
       "4                          Very High           Good  \n",
       "...                              ...            ...  \n",
       "1468                       Very High           Poor  \n",
       "1469                       Very High      Excellent  \n",
       "1470                       Very High           Good  \n",
       "1471                          Medium           Good  \n",
       "1472                            High      Excellent  \n",
       "\n",
       "[1473 rows x 39 columns]"
      ]
     },
     "execution_count": 79,
     "metadata": {},
     "output_type": "execute_result"
    }
   ],
   "source": [
    "HR_Analytics_df"
   ]
  },
  {
   "cell_type": "code",
   "execution_count": 157,
   "id": "bfff692e-8598-4f35-a63d-02c31a29263c",
   "metadata": {},
   "outputs": [
    {
     "data": {
      "application/vnd.plotly.v1+json": {
       "config": {
        "plotlyServerURL": "https://plot.ly"
       },
       "data": [
        {
         "alignmentgroup": "True",
         "hovertemplate": "<b>%{x}</b><br>Attrition: %{marker.color}<br>Percentage: %{y:.2f}%<extra></extra>",
         "legendgroup": "No",
         "marker": {
          "color": "#1f77b4",
          "pattern": {
           "shape": ""
          }
         },
         "name": "No",
         "offsetgroup": "No",
         "orientation": "v",
         "showlegend": true,
         "text": {
          "_inputArray": {
           "0": 93.18,
           "1": 76.92,
           "2": 76.15,
           "3": 95.1,
           "4": 93.1,
           "5": 97.5,
           "6": 83.9,
           "7": 82.52,
           "8": 60.71,
           "bdata": "7FG4HoVLV0B7FK5H4TpTQJqZmZmZCVNAZmZmZmbGV0BmZmZmZkZXQAAAAAAAYFhAmpmZmZn5VEDhehSuR6FUQHsUrkfhWk5A",
           "dtype": "f8",
           "shape": "9"
          },
          "bdata": "7FG4HoVLV0B7FK5H4TpTQJqZmZmZCVNAZmZmZmbGV0BmZmZmZkZXQAAAAAAAYFhAmpmZmZn5VEDhehSuR6FUQHsUrkfhWk5A",
          "dtype": "f8"
         },
         "textposition": "outside",
         "texttemplate": "%{text:.1f}%",
         "type": "bar",
         "x": [
          "Healthcare Representative",
          "Human Resources",
          "Laboratory Technician",
          "Manager",
          "Manufacturing Director",
          "Research Director",
          "Research Scientist",
          "Sales Executive",
          "Sales Representative"
         ],
         "xaxis": "x",
         "y": {
          "_inputArray": {
           "0": 93.18,
           "1": 76.92,
           "2": 76.15,
           "3": 95.1,
           "4": 93.1,
           "5": 97.5,
           "6": 83.9,
           "7": 82.52,
           "8": 60.71,
           "bdata": "7FG4HoVLV0B7FK5H4TpTQJqZmZmZCVNAZmZmZmbGV0BmZmZmZkZXQAAAAAAAYFhAmpmZmZn5VEDhehSuR6FUQHsUrkfhWk5A",
           "dtype": "f8",
           "shape": "9"
          },
          "bdata": "7FG4HoVLV0B7FK5H4TpTQJqZmZmZCVNAZmZmZmbGV0BmZmZmZkZXQAAAAAAAYFhAmpmZmZn5VEDhehSuR6FUQHsUrkfhWk5A",
          "dtype": "f8"
         },
         "yaxis": "y"
        },
        {
         "alignmentgroup": "True",
         "hovertemplate": "<b>%{x}</b><br>Attrition: %{marker.color}<br>Percentage: %{y:.2f}%<extra></extra>",
         "legendgroup": "Yes",
         "marker": {
          "color": "#d62728",
          "pattern": {
           "shape": ""
          }
         },
         "name": "Yes",
         "offsetgroup": "Yes",
         "orientation": "v",
         "showlegend": true,
         "text": {
          "_inputArray": {
           "0": 6.82,
           "1": 23.08,
           "2": 23.85,
           "3": 4.9,
           "4": 6.9,
           "5": 2.5,
           "6": 16.1,
           "7": 17.48,
           "8": 39.29,
           "bdata": "SOF6FK5HG0AUrkfhehQ3QJqZmZmZ2TdAmpmZmZmZE0CamZmZmZkbQAAAAAAAAARAmpmZmZkZMEB7FK5H4XoxQIXrUbgepUNA",
           "dtype": "f8",
           "shape": "9"
          },
          "bdata": "SOF6FK5HG0AUrkfhehQ3QJqZmZmZ2TdAmpmZmZmZE0CamZmZmZkbQAAAAAAAAARAmpmZmZkZMEB7FK5H4XoxQIXrUbgepUNA",
          "dtype": "f8"
         },
         "textposition": "outside",
         "texttemplate": "%{text:.1f}%",
         "type": "bar",
         "x": [
          "Healthcare Representative",
          "Human Resources",
          "Laboratory Technician",
          "Manager",
          "Manufacturing Director",
          "Research Director",
          "Research Scientist",
          "Sales Executive",
          "Sales Representative"
         ],
         "xaxis": "x",
         "y": {
          "_inputArray": {
           "0": 6.82,
           "1": 23.08,
           "2": 23.85,
           "3": 4.9,
           "4": 6.9,
           "5": 2.5,
           "6": 16.1,
           "7": 17.48,
           "8": 39.29,
           "bdata": "SOF6FK5HG0AUrkfhehQ3QJqZmZmZ2TdAmpmZmZmZE0CamZmZmZkbQAAAAAAAAARAmpmZmZkZMEB7FK5H4XoxQIXrUbgepUNA",
           "dtype": "f8",
           "shape": "9"
          },
          "bdata": "SOF6FK5HG0AUrkfhehQ3QJqZmZmZ2TdAmpmZmZmZE0CamZmZmZkbQAAAAAAAAARAmpmZmZkZMEB7FK5H4XoxQIXrUbgepUNA",
          "dtype": "f8"
         },
         "yaxis": "y"
        }
       ],
       "layout": {
        "barmode": "group",
        "height": 450,
        "legend": {
         "title": {
          "text": "Attrition"
         },
         "tracegroupgap": 0
        },
        "margin": {
         "b": 150
        },
        "paper_bgcolor": "rgba(0, 0, 0, 0)",
        "plot_bgcolor": "rgba(0, 0, 0, 0)",
        "template": {
         "data": {
          "pie": [
           {
            "automargin": true,
            "type": "pie"
           }
          ],
          "scatter": [
           {
            "line": {
             "width": 3
            },
            "marker": {
             "size": 9
            },
            "type": "scatter"
           }
          ],
          "scatter3d": [
           {
            "line": {
             "width": 3
            },
            "marker": {
             "size": 9
            },
            "type": "scatter3d"
           }
          ],
          "scattergeo": [
           {
            "line": {
             "width": 3
            },
            "marker": {
             "size": 9
            },
            "type": "scattergeo"
           }
          ],
          "scattergl": [
           {
            "line": {
             "width": 3
            },
            "marker": {
             "size": 9
            },
            "type": "scattergl"
           }
          ],
          "scatterpolar": [
           {
            "line": {
             "width": 3
            },
            "marker": {
             "size": 9
            },
            "type": "scatterpolar"
           }
          ],
          "scatterpolargl": [
           {
            "line": {
             "width": 3
            },
            "marker": {
             "size": 9
            },
            "type": "scatterpolargl"
           }
          ],
          "scatterternary": [
           {
            "line": {
             "width": 3
            },
            "marker": {
             "size": 9
            },
            "type": "scatterternary"
           }
          ],
          "table": [
           {
            "cells": {
             "height": 30
            },
            "header": {
             "height": 36
            },
            "type": "table"
           }
          ]
         },
         "layout": {
          "font": {
           "size": 18
          },
          "xaxis": {
           "title": {
            "standoff": 15
           }
          },
          "yaxis": {
           "title": {
            "standoff": 15
           }
          }
         }
        },
        "title": {
         "text": "Attrition Rate by Job Role (%)"
        },
        "width": 700,
        "xaxis": {
         "anchor": "y",
         "automargin": true,
         "autorange": true,
         "domain": [
          0,
          1
         ],
         "range": [
          -0.5,
          8.5
         ],
         "tickangle": 60,
         "tickfont": {
          "size": 10
         },
         "title": {
          "text": "Job Role"
         },
         "type": "category"
        },
        "yaxis": {
         "anchor": "x",
         "autorange": true,
         "domain": [
          0,
          1
         ],
         "range": [
          0,
          102.63157894736842
         ],
         "title": {
          "text": "Percentage"
         },
         "type": "linear"
        }
       }
      },
      "image/png": "[encoded data removed]"
     },
     "metadata": {},
     "output_type": "display_data"
    }
   ],
   "source": [
    "import os\n",
    "import plotly.express as px\n",
    "\n",
    "# Your grouping and calculation remains the same\n",
    "\n",
    "color_discrete_map = {\n",
    "    'Yes': '#d62728',  # red for attrition\n",
    "    'No': '#1f77b4'    # blue for no attrition\n",
    "}\n",
    "\n",
    "fig = px.bar(\n",
    "    attrition_by_role,\n",
    "    x='JobRole',\n",
    "    y='percentage',\n",
    "    color='Attrition',\n",
    "    barmode='group',\n",
    "    title='Attrition Rate by Job Role (%)',\n",
    "    labels={'percentage': 'Percentage', 'JobRole': 'Job Role'},\n",
    "    color_discrete_map=color_discrete_map,\n",
    "    text='percentage',\n",
    "    width=700,\n",
    "    height=450\n",
    ")\n",
    "\n",
    "fig.update_layout(\n",
    "    xaxis_tickangle=60,\n",
    "    xaxis=dict(automargin=True, tickfont=dict(size=10)),\n",
    "    margin=dict(b=150),\n",
    "    template=\"presentation\",\n",
    "    paper_bgcolor=\"rgba(0,0,0,0)\",\n",
    "    plot_bgcolor=\"rgba(0,0,0,0)\",\n",
    "    legend_title_text=\"Attrition\"\n",
    ")\n",
    "\n",
    "fig.update_traces(texttemplate='%{text:.1f}%', textposition='outside')\n",
    "fig.update_traces(\n",
    "    hovertemplate='<b>%{x}</b><br>Attrition: %{marker.color}<br>Percentage: %{y:.2f}%<extra></extra>'\n",
    ")\n",
    "\n",
    "fig.show()\n",
    "\n",
    "results_dir = 'results'\n",
    "os.makedirs(results_dir, exist_ok=True)\n",
    "fig.write_image(os.path.join(results_dir, 'Attrition_Rate_bar_chart.jpg'))\n",
    "fig.write_image(os.path.join(results_dir, 'Attrition_Rate_bar_chart.png'))\n",
    "fig.write_html(os.path.join(results_dir, 'Attrition_Rate_bar_chart.html'))\n"
   ]
  },
  {
   "cell_type": "code",
   "execution_count": 158,
   "id": "6f134473-9f9a-4bd5-9821-f7681127bab3",
   "metadata": {},
   "outputs": [
    {
     "data": {
      "application/vnd.plotly.v1+json": {
       "config": {
        "plotlyServerURL": "https://plot.ly"
       },
       "data": [
        {
         "alignmentgroup": "True",
         "hovertemplate": "Attrition=No<br>JobRole=%{x}<br>percentage=%{text}<extra></extra>",
         "legendgroup": "No",
         "marker": {
          "color": "rgb(102,194,165)",
          "pattern": {
           "shape": ""
          }
         },
         "name": "No",
         "offsetgroup": "No",
         "orientation": "v",
         "showlegend": true,
         "text": {
          "_inputArray": {
           "0": 93.18,
           "1": 76.92,
           "2": 76.15,
           "3": 95.1,
           "4": 93.1,
           "5": 97.5,
           "6": 83.9,
           "7": 82.52,
           "8": 60.71,
           "bdata": "7FG4HoVLV0B7FK5H4TpTQJqZmZmZCVNAZmZmZmbGV0BmZmZmZkZXQAAAAAAAYFhAmpmZmZn5VEDhehSuR6FUQHsUrkfhWk5A",
           "dtype": "f8",
           "shape": "9"
          },
          "bdata": "7FG4HoVLV0B7FK5H4TpTQJqZmZmZCVNAZmZmZmbGV0BmZmZmZkZXQAAAAAAAYFhAmpmZmZn5VEDhehSuR6FUQHsUrkfhWk5A",
          "dtype": "f8"
         },
         "textposition": "outside",
         "texttemplate": "%{text:.2f}%",
         "type": "bar",
         "x": [
          "Healthcare Representative",
          "Human Resources",
          "Laboratory Technician",
          "Manager",
          "Manufacturing Director",
          "Research Director",
          "Research Scientist",
          "Sales Executive",
          "Sales Representative"
         ],
         "xaxis": "x",
         "y": {
          "_inputArray": {
           "0": 93.18,
           "1": 76.92,
           "2": 76.15,
           "3": 95.1,
           "4": 93.1,
           "5": 97.5,
           "6": 83.9,
           "7": 82.52,
           "8": 60.71,
           "bdata": "7FG4HoVLV0B7FK5H4TpTQJqZmZmZCVNAZmZmZmbGV0BmZmZmZkZXQAAAAAAAYFhAmpmZmZn5VEDhehSuR6FUQHsUrkfhWk5A",
           "dtype": "f8",
           "shape": "9"
          },
          "bdata": "7FG4HoVLV0B7FK5H4TpTQJqZmZmZCVNAZmZmZmbGV0BmZmZmZkZXQAAAAAAAYFhAmpmZmZn5VEDhehSuR6FUQHsUrkfhWk5A",
          "dtype": "f8"
         },
         "yaxis": "y"
        },
        {
         "alignmentgroup": "True",
         "hovertemplate": "Attrition=Yes<br>JobRole=%{x}<br>percentage=%{text}<extra></extra>",
         "legendgroup": "Yes",
         "marker": {
          "color": "rgb(252,141,98)",
          "pattern": {
           "shape": ""
          }
         },
         "name": "Yes",
         "offsetgroup": "Yes",
         "orientation": "v",
         "showlegend": true,
         "text": {
          "_inputArray": {
           "0": 6.82,
           "1": 23.08,
           "2": 23.85,
           "3": 4.9,
           "4": 6.9,
           "5": 2.5,
           "6": 16.1,
           "7": 17.48,
           "8": 39.29,
           "bdata": "SOF6FK5HG0AUrkfhehQ3QJqZmZmZ2TdAmpmZmZmZE0CamZmZmZkbQAAAAAAAAARAmpmZmZkZMEB7FK5H4XoxQIXrUbgepUNA",
           "dtype": "f8",
           "shape": "9"
          },
          "bdata": "SOF6FK5HG0AUrkfhehQ3QJqZmZmZ2TdAmpmZmZmZE0CamZmZmZkbQAAAAAAAAARAmpmZmZkZMEB7FK5H4XoxQIXrUbgepUNA",
          "dtype": "f8"
         },
         "textposition": "outside",
         "texttemplate": "%{text:.2f}%",
         "type": "bar",
         "x": [
          "Healthcare Representative",
          "Human Resources",
          "Laboratory Technician",
          "Manager",
          "Manufacturing Director",
          "Research Director",
          "Research Scientist",
          "Sales Executive",
          "Sales Representative"
         ],
         "xaxis": "x",
         "y": {
          "_inputArray": {
           "0": 6.82,
           "1": 23.08,
           "2": 23.85,
           "3": 4.9,
           "4": 6.9,
           "5": 2.5,
           "6": 16.1,
           "7": 17.48,
           "8": 39.29,
           "bdata": "SOF6FK5HG0AUrkfhehQ3QJqZmZmZ2TdAmpmZmZmZE0CamZmZmZkbQAAAAAAAAARAmpmZmZkZMEB7FK5H4XoxQIXrUbgepUNA",
           "dtype": "f8",
           "shape": "9"
          },
          "bdata": "SOF6FK5HG0AUrkfhehQ3QJqZmZmZ2TdAmpmZmZmZE0CamZmZmZkbQAAAAAAAAARAmpmZmZkZMEB7FK5H4XoxQIXrUbgepUNA",
          "dtype": "f8"
         },
         "yaxis": "y"
        }
       ],
       "layout": {
        "barmode": "group",
        "height": 500,
        "legend": {
         "title": {
          "text": "Attrition"
         },
         "tracegroupgap": 0
        },
        "paper_bgcolor": "rgba(0, 0, 0, 0)",
        "plot_bgcolor": "rgba(0, 0, 0, 0)",
        "template": {
         "data": {
          "pie": [
           {
            "automargin": true,
            "type": "pie"
           }
          ],
          "scatter": [
           {
            "line": {
             "width": 3
            },
            "marker": {
             "size": 9
            },
            "type": "scatter"
           }
          ],
          "scatter3d": [
           {
            "line": {
             "width": 3
            },
            "marker": {
             "size": 9
            },
            "type": "scatter3d"
           }
          ],
          "scattergeo": [
           {
            "line": {
             "width": 3
            },
            "marker": {
             "size": 9
            },
            "type": "scattergeo"
           }
          ],
          "scattergl": [
           {
            "line": {
             "width": 3
            },
            "marker": {
             "size": 9
            },
            "type": "scattergl"
           }
          ],
          "scatterpolar": [
           {
            "line": {
             "width": 3
            },
            "marker": {
             "size": 9
            },
            "type": "scatterpolar"
           }
          ],
          "scatterpolargl": [
           {
            "line": {
             "width": 3
            },
            "marker": {
             "size": 9
            },
            "type": "scatterpolargl"
           }
          ],
          "scatterternary": [
           {
            "line": {
             "width": 3
            },
            "marker": {
             "size": 9
            },
            "type": "scatterternary"
           }
          ],
          "table": [
           {
            "cells": {
             "height": 30
            },
            "header": {
             "height": 36
            },
            "type": "table"
           }
          ]
         },
         "layout": {
          "font": {
           "size": 18
          },
          "xaxis": {
           "title": {
            "standoff": 15
           }
          },
          "yaxis": {
           "title": {
            "standoff": 15
           }
          }
         }
        },
        "title": {
         "text": "Attrition by Job Role (%)"
        },
        "width": 900,
        "xaxis": {
         "anchor": "y",
         "autorange": true,
         "domain": [
          0,
          1
         ],
         "range": [
          -0.5,
          8.5
         ],
         "tickangle": 23,
         "tickfont": {
          "size": 11
         },
         "title": {
          "text": "Job Role"
         },
         "type": "category"
        },
        "yaxis": {
         "anchor": "x",
         "autorange": true,
         "domain": [
          0,
          1
         ],
         "range": [
          0,
          102.63157894736842
         ],
         "title": {
          "text": "Attrition Percentage"
         },
         "type": "linear"
        }
       }
      },
      "image/png": "[encoded data removed]"
     },
     "metadata": {},
     "output_type": "display_data"
    }
   ],
   "source": [
    "import os\n",
    "results_dir = 'results'\n",
    "os.makedirs(results_dir, exist_ok=True)\n",
    "\n",
    "# Group and calculate attrition percentage by JobRole\n",
    "attrition_by_role = HR_Analytics_df.groupby(['JobRole', 'Attrition']).size().reset_index(name='count')\n",
    "total_per_role = attrition_by_role.groupby('JobRole')['count'].transform('sum')\n",
    "attrition_by_role['percentage'] = round((attrition_by_role['count'] / total_per_role) * 100, 2)\n",
    "\n",
    "# Plot\n",
    "fig = px.bar(attrition_by_role,\n",
    "             x='JobRole',\n",
    "             y='percentage',\n",
    "             color='Attrition',\n",
    "             title='Attrition by Job Role (%)',\n",
    "             color_discrete_sequence=px.colors.qualitative.Set2,  \n",
    "             barmode='group',\n",
    "             text='percentage',\n",
    "             width=900,\n",
    "             height=500)\n",
    "\n",
    "fig.update_layout(\n",
    "    template=\"presentation\",\n",
    "    xaxis_title='Job Role',\n",
    "    yaxis_title='Attrition Percentage',\n",
    "    xaxis_tickangle=23,               \n",
    "    xaxis_tickfont=dict(size=11),     \n",
    "    legend_title=dict(text='Attrition'),\n",
    "    paper_bgcolor=\"rgba(0,0,0,0)\",\n",
    "    plot_bgcolor=\"rgba(0,0,0,0)\"\n",
    ")\n",
    "\n",
    "fig.update_traces(texttemplate='%{text:.2f}%', textposition='outside')\n",
    "fig.show()\n",
    "\n",
    "# Save the chart\n",
    "fig.write_image(os.path.join(results_dir, 'attrition_by_jobrole.jpg'))\n",
    "fig.write_image(os.path.join(results_dir, 'attrition_by_jobrole.png'))\n",
    "fig.write_html(os.path.join(results_dir, 'attrition_by_jobrole.html'))\n"
   ]
  },
  {
   "cell_type": "code",
   "execution_count": 94,
   "id": "e110e05f-1495-4ef6-8710-ee15e2bc26d4",
   "metadata": {},
   "outputs": [
    {
     "data": {
      "application/vnd.plotly.v1+json": {
       "config": {
        "plotlyServerURL": "https://plot.ly"
       },
       "data": [
        {
         "alignmentgroup": "True",
         "hovertemplate": "Attrition=No<br>AgeGroup=%{x}<br>percentage=%{text}<extra></extra>",
         "legendgroup": "No",
         "marker": {
          "color": "#4dd0e1",
          "pattern": {
           "shape": ""
          }
         },
         "name": "No",
         "offsetgroup": "No",
         "orientation": "v",
         "showlegend": true,
         "text": {
          "_inputArray": {
           "0": 64.23,
           "1": 80.89,
           "2": 90.85,
           "3": 88.5,
           "4": 82.98,
           "bdata": "H4XrUbgOUEApXI/C9ThUQGZmZmZmtlZAAAAAAAAgVkAfhetRuL5UQA==",
           "dtype": "f8",
           "shape": "5"
          },
          "bdata": "H4XrUbgOUEApXI/C9ThUQGZmZmZmtlZAAAAAAAAgVkAfhetRuL5UQA==",
          "dtype": "f8"
         },
         "textposition": "outside",
         "texttemplate": "%{text:.2f}%",
         "type": "bar",
         "x": [
          "18-25",
          "26-35",
          "36-45",
          "46-55",
          "55+"
         ],
         "xaxis": "x",
         "y": {
          "_inputArray": {
           "0": 64.23,
           "1": 80.89,
           "2": 90.85,
           "3": 88.5,
           "4": 82.98,
           "bdata": "H4XrUbgOUEApXI/C9ThUQGZmZmZmtlZAAAAAAAAgVkAfhetRuL5UQA==",
           "dtype": "f8",
           "shape": "5"
          },
          "bdata": "H4XrUbgOUEApXI/C9ThUQGZmZmZmtlZAAAAAAAAgVkAfhetRuL5UQA==",
          "dtype": "f8"
         },
         "yaxis": "y"
        },
        {
         "alignmentgroup": "True",
         "hovertemplate": "Attrition=Yes<br>AgeGroup=%{x}<br>percentage=%{text}<extra></extra>",
         "legendgroup": "Yes",
         "marker": {
          "color": "#00695c",
          "pattern": {
           "shape": ""
          }
         },
         "name": "Yes",
         "offsetgroup": "Yes",
         "orientation": "v",
         "showlegend": true,
         "text": {
          "_inputArray": {
           "0": 35.77,
           "1": 19.11,
           "2": 9.15,
           "3": 11.5,
           "4": 17.02,
           "bdata": "w/UoXI/iQUBcj8L1KBwzQM3MzMzMTCJAAAAAAAAAJ0CF61G4HgUxQA==",
           "dtype": "f8",
           "shape": "5"
          },
          "bdata": "w/UoXI/iQUBcj8L1KBwzQM3MzMzMTCJAAAAAAAAAJ0CF61G4HgUxQA==",
          "dtype": "f8"
         },
         "textposition": "outside",
         "texttemplate": "%{text:.2f}%",
         "type": "bar",
         "x": [
          "18-25",
          "26-35",
          "36-45",
          "46-55",
          "55+"
         ],
         "xaxis": "x",
         "y": {
          "_inputArray": {
           "0": 35.77,
           "1": 19.11,
           "2": 9.15,
           "3": 11.5,
           "4": 17.02,
           "bdata": "w/UoXI/iQUBcj8L1KBwzQM3MzMzMTCJAAAAAAAAAJ0CF61G4HgUxQA==",
           "dtype": "f8",
           "shape": "5"
          },
          "bdata": "w/UoXI/iQUBcj8L1KBwzQM3MzMzMTCJAAAAAAAAAJ0CF61G4HgUxQA==",
          "dtype": "f8"
         },
         "yaxis": "y"
        }
       ],
       "layout": {
        "barmode": "group",
        "height": 500,
        "legend": {
         "title": {
          "text": "Attrition"
         },
         "tracegroupgap": 0
        },
        "paper_bgcolor": "rgba(0, 0, 0, 0)",
        "plot_bgcolor": "rgba(0, 0, 0, 0)",
        "template": {
         "data": {
          "pie": [
           {
            "automargin": true,
            "type": "pie"
           }
          ],
          "scatter": [
           {
            "line": {
             "width": 3
            },
            "marker": {
             "size": 9
            },
            "type": "scatter"
           }
          ],
          "scatter3d": [
           {
            "line": {
             "width": 3
            },
            "marker": {
             "size": 9
            },
            "type": "scatter3d"
           }
          ],
          "scattergeo": [
           {
            "line": {
             "width": 3
            },
            "marker": {
             "size": 9
            },
            "type": "scattergeo"
           }
          ],
          "scattergl": [
           {
            "line": {
             "width": 3
            },
            "marker": {
             "size": 9
            },
            "type": "scattergl"
           }
          ],
          "scatterpolar": [
           {
            "line": {
             "width": 3
            },
            "marker": {
             "size": 9
            },
            "type": "scatterpolar"
           }
          ],
          "scatterpolargl": [
           {
            "line": {
             "width": 3
            },
            "marker": {
             "size": 9
            },
            "type": "scatterpolargl"
           }
          ],
          "scatterternary": [
           {
            "line": {
             "width": 3
            },
            "marker": {
             "size": 9
            },
            "type": "scatterternary"
           }
          ],
          "table": [
           {
            "cells": {
             "height": 30
            },
            "header": {
             "height": 36
            },
            "type": "table"
           }
          ]
         },
         "layout": {
          "font": {
           "size": 18
          },
          "xaxis": {
           "title": {
            "standoff": 15
           }
          },
          "yaxis": {
           "title": {
            "standoff": 15
           }
          }
         }
        },
        "title": {
         "text": "Attrition by Age Group (%)"
        },
        "width": 700,
        "xaxis": {
         "anchor": "y",
         "autorange": true,
         "domain": [
          0,
          1
         ],
         "range": [
          -0.5,
          4.5
         ],
         "title": {
          "text": "Age Group"
         },
         "type": "category"
        },
        "yaxis": {
         "anchor": "x",
         "autorange": true,
         "domain": [
          0,
          1
         ],
         "range": [
          0,
          95.63157894736841
         ],
         "title": {
          "text": "Attrition Percentage"
         },
         "type": "linear"
        }
       }
      },
      "image/png": "[encoded data removed]"
     },
     "metadata": {},
     "output_type": "display_data"
    }
   ],
   "source": [
    "attrition_by_age = HR_Analytics_df.groupby(['AgeGroup', 'Attrition']).size().reset_index(name='count')\n",
    "total_per_age = attrition_by_age.groupby('AgeGroup')['count'].transform('sum')\n",
    "attrition_by_age['percentage'] = round((attrition_by_age['count'] / total_per_age) * 100, 2)\n",
    "\n",
    "fig = px.bar(attrition_by_age,\n",
    "             x='AgeGroup',\n",
    "             y='percentage',\n",
    "             color='Attrition',\n",
    "             title='Attrition by Age Group (%)',\n",
    "             color_discrete_sequence=[\"#4dd0e1\", \"#00695c\"],\n",
    "             barmode='group',\n",
    "             text='percentage',\n",
    "             width=700,\n",
    "             height=500)\n",
    "\n",
    "fig.update_layout(template=\"presentation\",\n",
    "                  xaxis_title='Age Group',\n",
    "                  yaxis_title='Attrition Percentage',\n",
    "                  legend_title=dict(text='Attrition'),\n",
    "                  paper_bgcolor=\"rgba(0,0,0,0)\",\n",
    "                  plot_bgcolor=\"rgba(0,0,0,0)\")\n",
    "\n",
    "fig.update_traces(texttemplate='%{text:.2f}%', textposition='outside')\n",
    "fig.show()\n",
    "\n",
    "fig.write_image(os.path.join(results_dir, 'attrition_by_age.jpg'))\n",
    "fig.write_image(os.path.join(results_dir, 'attrition_by_age.png'))\n",
    "fig.write_html(os.path.join(results_dir, 'attrition_by_age.html'))"
   ]
  },
  {
   "cell_type": "code",
   "execution_count": 114,
   "id": "53a4ff6c-ceba-45fe-bca4-04cc50c0edcf",
   "metadata": {},
   "outputs": [
    {
     "data": {
      "application/vnd.plotly.v1+json": {
       "config": {
        "plotlyServerURL": "https://plot.ly"
       },
       "data": [
        {
         "alignmentgroup": "True",
         "hovertemplate": "Attrition=No<br>OverTime=%{x}<br>percentage=%{text}<extra></extra>",
         "legendgroup": "No",
         "marker": {
          "color": "#26c6da",
          "pattern": {
           "shape": ""
          }
         },
         "name": "No",
         "offsetgroup": "No",
         "orientation": "v",
         "showlegend": true,
         "text": {
          "_inputArray": {
           "0": 89.59,
           "1": 69.47,
           "bdata": "9ihcj8JlVkCuR+F6FF5RQA==",
           "dtype": "f8",
           "shape": "2"
          },
          "bdata": "9ihcj8JlVkCuR+F6FF5RQA==",
          "dtype": "f8"
         },
         "textposition": "outside",
         "texttemplate": "%{text:.2f}%",
         "type": "bar",
         "x": [
          "No",
          "Yes"
         ],
         "xaxis": "x",
         "y": {
          "_inputArray": {
           "0": 89.59,
           "1": 69.47,
           "bdata": "9ihcj8JlVkCuR+F6FF5RQA==",
           "dtype": "f8",
           "shape": "2"
          },
          "bdata": "9ihcj8JlVkCuR+F6FF5RQA==",
          "dtype": "f8"
         },
         "yaxis": "y"
        },
        {
         "alignmentgroup": "True",
         "hovertemplate": "Attrition=Yes<br>OverTime=%{x}<br>percentage=%{text}<extra></extra>",
         "legendgroup": "Yes",
         "marker": {
          "color": "#004d40",
          "pattern": {
           "shape": ""
          }
         },
         "name": "Yes",
         "offsetgroup": "Yes",
         "orientation": "v",
         "showlegend": true,
         "text": {
          "_inputArray": {
           "0": 10.41,
           "1": 30.53,
           "bdata": "UrgehevRJEBI4XoUroc+QA==",
           "dtype": "f8",
           "shape": "2"
          },
          "bdata": "UrgehevRJEBI4XoUroc+QA==",
          "dtype": "f8"
         },
         "textposition": "outside",
         "texttemplate": "%{text:.2f}%",
         "type": "bar",
         "x": [
          "No",
          "Yes"
         ],
         "xaxis": "x",
         "y": {
          "_inputArray": {
           "0": 10.41,
           "1": 30.53,
           "bdata": "UrgehevRJEBI4XoUroc+QA==",
           "dtype": "f8",
           "shape": "2"
          },
          "bdata": "UrgehevRJEBI4XoUroc+QA==",
          "dtype": "f8"
         },
         "yaxis": "y"
        }
       ],
       "layout": {
        "barmode": "group",
        "height": 500,
        "legend": {
         "title": {
          "text": "Attrition"
         },
         "tracegroupgap": 0
        },
        "paper_bgcolor": "rgba(0, 0, 0, 0)",
        "plot_bgcolor": "rgba(0, 0, 0, 0)",
        "template": {
         "data": {
          "pie": [
           {
            "automargin": true,
            "type": "pie"
           }
          ],
          "scatter": [
           {
            "line": {
             "width": 3
            },
            "marker": {
             "size": 9
            },
            "type": "scatter"
           }
          ],
          "scatter3d": [
           {
            "line": {
             "width": 3
            },
            "marker": {
             "size": 9
            },
            "type": "scatter3d"
           }
          ],
          "scattergeo": [
           {
            "line": {
             "width": 3
            },
            "marker": {
             "size": 9
            },
            "type": "scattergeo"
           }
          ],
          "scattergl": [
           {
            "line": {
             "width": 3
            },
            "marker": {
             "size": 9
            },
            "type": "scattergl"
           }
          ],
          "scatterpolar": [
           {
            "line": {
             "width": 3
            },
            "marker": {
             "size": 9
            },
            "type": "scatterpolar"
           }
          ],
          "scatterpolargl": [
           {
            "line": {
             "width": 3
            },
            "marker": {
             "size": 9
            },
            "type": "scatterpolargl"
           }
          ],
          "scatterternary": [
           {
            "line": {
             "width": 3
            },
            "marker": {
             "size": 9
            },
            "type": "scatterternary"
           }
          ],
          "table": [
           {
            "cells": {
             "height": 30
            },
            "header": {
             "height": 36
            },
            "type": "table"
           }
          ]
         },
         "layout": {
          "font": {
           "size": 18
          },
          "xaxis": {
           "title": {
            "standoff": 15
           }
          },
          "yaxis": {
           "title": {
            "standoff": 15
           }
          }
         }
        },
        "title": {
         "text": "Attrition by Overtime (%)"
        },
        "width": 400,
        "xaxis": {
         "anchor": "y",
         "autorange": true,
         "domain": [
          0,
          1
         ],
         "range": [
          -0.5,
          1.5
         ],
         "title": {
          "text": "OverTime"
         },
         "type": "category"
        },
        "yaxis": {
         "anchor": "x",
         "autorange": true,
         "domain": [
          0,
          1
         ],
         "range": [
          0,
          94.30526315789474
         ],
         "title": {
          "text": "Attrition Percentage"
         },
         "type": "linear"
        }
       }
      },
      "image/png": "[encoded data removed]"
     },
     "metadata": {},
     "output_type": "display_data"
    }
   ],
   "source": [
    "overtime_attrition = HR_Analytics_df.groupby(['OverTime', 'Attrition']).size().reset_index(name='count')\n",
    "total_per_ot = overtime_attrition.groupby('OverTime')['count'].transform('sum')\n",
    "overtime_attrition['percentage'] = round((overtime_attrition['count'] / total_per_ot) * 100, 2)\n",
    "\n",
    "fig = px.bar(overtime_attrition,\n",
    "             x='OverTime',\n",
    "             y='percentage',\n",
    "             color='Attrition',\n",
    "             title='Attrition by Overtime (%)',\n",
    "             color_discrete_sequence=[\"#26c6da\", \"#004d40\"],\n",
    "             barmode='group',\n",
    "             text='percentage',\n",
    "             width=400,\n",
    "             height=500)\n",
    "\n",
    "fig.update_layout(template=\"presentation\",\n",
    "                  xaxis_title='OverTime',\n",
    "                  yaxis_title='Attrition Percentage',\n",
    "                  legend_title=dict(text='Attrition'),\n",
    "                  paper_bgcolor=\"rgba(0,0,0,0)\",\n",
    "                  plot_bgcolor=\"rgba(0,0,0,0)\")\n",
    "\n",
    "fig.update_traces(texttemplate='%{text:.2f}%', textposition='outside')\n",
    "fig.show()\n",
    "\n",
    "fig.write_image(os.path.join(results_dir, 'attrition_by_overtime.jpg'))\n",
    "fig.write_image(os.path.join(results_dir, 'attrition_by_overtime.png'))\n",
    "fig.write_html(os.path.join(results_dir, 'attrition_by_overtime.html'))\n"
   ]
  },
  {
   "cell_type": "code",
   "execution_count": 113,
   "id": "f8e65b5a-7fbe-4b0c-bc54-a66736d0f3bf",
   "metadata": {},
   "outputs": [
    {
     "data": {
      "application/vnd.plotly.v1+json": {
       "config": {
        "plotlyServerURL": "https://plot.ly"
       },
       "data": [
        {
         "hovertemplate": "Gender=%{x}<br>Percentage=%{text}<extra></extra>",
         "legendgroup": "Male",
         "marker": {
          "color": "rgb(251,180,174)",
          "pattern": {
           "shape": ""
          }
         },
         "name": "Male",
         "orientation": "v",
         "showlegend": true,
         "text": {
          "_inputArray": {
           "0": 60.01357773251868,
           "bdata": "j49G6rwBTkA=",
           "dtype": "f8",
           "shape": "1"
          },
          "bdata": "j49G6rwBTkA=",
          "dtype": "f8"
         },
         "textposition": "outside",
         "texttemplate": "%{text:.2f}%",
         "type": "bar",
         "x": [
          "Male"
         ],
         "xaxis": "x",
         "y": {
          "_inputArray": {
           "0": 60.01357773251868,
           "bdata": "j49G6rwBTkA=",
           "dtype": "f8",
           "shape": "1"
          },
          "bdata": "j49G6rwBTkA=",
          "dtype": "f8"
         },
         "yaxis": "y"
        },
        {
         "hovertemplate": "Gender=%{x}<br>Percentage=%{text}<extra></extra>",
         "legendgroup": "Female",
         "marker": {
          "color": "rgb(179,205,227)",
          "pattern": {
           "shape": ""
          }
         },
         "name": "Female",
         "orientation": "v",
         "showlegend": true,
         "text": {
          "_inputArray": {
           "0": 39.98642226748133,
           "bdata": "cnC5FUP+Q0A=",
           "dtype": "f8",
           "shape": "1"
          },
          "bdata": "cnC5FUP+Q0A=",
          "dtype": "f8"
         },
         "textposition": "outside",
         "texttemplate": "%{text:.2f}%",
         "type": "bar",
         "x": [
          "Female"
         ],
         "xaxis": "x",
         "y": {
          "_inputArray": {
           "0": 39.98642226748133,
           "bdata": "cnC5FUP+Q0A=",
           "dtype": "f8",
           "shape": "1"
          },
          "bdata": "cnC5FUP+Q0A=",
          "dtype": "f8"
         },
         "yaxis": "y"
        }
       ],
       "layout": {
        "barmode": "relative",
        "height": 700,
        "legend": {
         "title": {
          "text": "Gender"
         },
         "tracegroupgap": 0
        },
        "paper_bgcolor": "rgba(0, 0, 0, 0)",
        "plot_bgcolor": "rgba(0, 0, 0, 0)",
        "showlegend": false,
        "template": {
         "data": {
          "pie": [
           {
            "automargin": true,
            "type": "pie"
           }
          ],
          "scatter": [
           {
            "line": {
             "width": 3
            },
            "marker": {
             "size": 9
            },
            "type": "scatter"
           }
          ],
          "scatter3d": [
           {
            "line": {
             "width": 3
            },
            "marker": {
             "size": 9
            },
            "type": "scatter3d"
           }
          ],
          "scattergeo": [
           {
            "line": {
             "width": 3
            },
            "marker": {
             "size": 9
            },
            "type": "scattergeo"
           }
          ],
          "scattergl": [
           {
            "line": {
             "width": 3
            },
            "marker": {
             "size": 9
            },
            "type": "scattergl"
           }
          ],
          "scatterpolar": [
           {
            "line": {
             "width": 3
            },
            "marker": {
             "size": 9
            },
            "type": "scatterpolar"
           }
          ],
          "scatterpolargl": [
           {
            "line": {
             "width": 3
            },
            "marker": {
             "size": 9
            },
            "type": "scatterpolargl"
           }
          ],
          "scatterternary": [
           {
            "line": {
             "width": 3
            },
            "marker": {
             "size": 9
            },
            "type": "scatterternary"
           }
          ],
          "table": [
           {
            "cells": {
             "height": 30
            },
            "header": {
             "height": 36
            },
            "type": "table"
           }
          ]
         },
         "layout": {
          "font": {
           "size": 18
          },
          "xaxis": {
           "title": {
            "standoff": 15
           }
          },
          "yaxis": {
           "title": {
            "standoff": 15
           }
          }
         }
        },
        "title": {
         "text": "Gender Distribution (%)"
        },
        "width": 400,
        "xaxis": {
         "anchor": "y",
         "autorange": true,
         "categoryarray": [
          "Male",
          "Female"
         ],
         "categoryorder": "array",
         "domain": [
          0,
          1
         ],
         "range": [
          -0.5,
          1.5
         ],
         "title": {
          "text": "Gender"
         },
         "type": "category"
        },
        "yaxis": {
         "anchor": "x",
         "autorange": true,
         "domain": [
          0,
          1
         ],
         "range": [
          0,
          63.17218708686177
         ],
         "title": {
          "text": "Percentage of Employees"
         },
         "type": "linear"
        }
       }
      },
      "image/png": "[encoded data removed]"
     },
     "metadata": {},
     "output_type": "display_data"
    }
   ],
   "source": [
    "gender_dist = HR_Analytics_df['Gender'].value_counts(normalize=True).reset_index()\n",
    "gender_dist.columns = ['Gender', 'Percentage']\n",
    "gender_dist['Percentage'] *= 100\n",
    "\n",
    "fig = px.bar(\n",
    "    gender_dist,\n",
    "    x='Gender',\n",
    "    y='Percentage',\n",
    "    text='Percentage',\n",
    "    color='Gender',\n",
    "    color_discrete_sequence=px.colors.qualitative.Pastel1,\n",
    "    title='Gender Distribution (%)',\n",
    "    width=400,     \n",
    "    height=700    \n",
    ")\n",
    "\n",
    "fig.update_layout(\n",
    "    template=\"presentation\",\n",
    "    xaxis_title='Gender',\n",
    "    yaxis_title='Percentage of Employees',\n",
    "    showlegend=False,\n",
    "    paper_bgcolor=\"rgba(0,0,0,0)\",\n",
    "    plot_bgcolor=\"rgba(0,0,0,0)\"\n",
    ")\n",
    "\n",
    "fig.update_traces(texttemplate='%{text:.2f}%', textposition='outside')\n",
    "fig.show()\n",
    "\n",
    "fig.write_image(os.path.join(results_dir, 'gender_distribution.jpg'))\n",
    "fig.write_image(os.path.join(results_dir, 'gender_distribution.png'))\n",
    "fig.write_html(os.path.join(results_dir, 'gender_distribution.html'))\n"
   ]
  },
  {
   "cell_type": "code",
   "execution_count": 153,
   "id": "cade8cfe-f87e-440a-948f-f1ca2d098578",
   "metadata": {},
   "outputs": [
    {
     "data": {
      "application/vnd.plotly.v1+json": {
       "config": {
        "plotlyServerURL": "https://plot.ly"
       },
       "data": [
        {
         "hovertemplate": "Satisfaction Level=%{marker.color}<br>Percentage=%{text}<extra></extra>",
         "legendgroup": "",
         "marker": {
          "color": {
           "_inputArray": {
            "0": 1,
            "1": 2,
            "2": 3,
            "3": 4,
            "bdata": "AQIDBA==",
            "dtype": "i1",
            "shape": "4"
           },
           "bdata": "AQIDBA==",
           "dtype": "i1"
          },
          "coloraxis": "coloraxis",
          "pattern": {
           "shape": ""
          }
         },
         "name": "",
         "orientation": "v",
         "showlegend": false,
         "text": {
          "_inputArray": {
           "0": 19.687712152070606,
           "1": 19.008825526137134,
           "2": 30.074677528852682,
           "3": 31.228784792939578,
           "bdata": "fTRS5w2wM0AFIcJjQgIzQBorCBEeEz5AZH/jo5E6P0A=",
           "dtype": "f8",
           "shape": "4"
          },
          "bdata": "fTRS5w2wM0AFIcJjQgIzQBorCBEeEz5AZH/jo5E6P0A=",
          "dtype": "f8"
         },
         "textposition": "outside",
         "texttemplate": "%{text:.2f}%",
         "type": "bar",
         "x": {
          "_inputArray": {
           "0": 1,
           "1": 2,
           "2": 3,
           "3": 4,
           "bdata": "AQIDBA==",
           "dtype": "i1",
           "shape": "4"
          },
          "bdata": "AQIDBA==",
          "dtype": "i1"
         },
         "xaxis": "x",
         "y": {
          "_inputArray": {
           "0": 19.687712152070606,
           "1": 19.008825526137134,
           "2": 30.074677528852682,
           "3": 31.228784792939578,
           "bdata": "fTRS5w2wM0AFIcJjQgIzQBorCBEeEz5AZH/jo5E6P0A=",
           "dtype": "f8",
           "shape": "4"
          },
          "bdata": "fTRS5w2wM0AFIcJjQgIzQBorCBEeEz5AZH/jo5E6P0A=",
          "dtype": "f8"
         },
         "yaxis": "y"
        }
       ],
       "layout": {
        "barmode": "relative",
        "coloraxis": {
         "colorbar": {
          "title": {
           "text": "Satisfaction Level"
          }
         },
         "colorscale": [
          [
           0,
           "#0d0887"
          ],
          [
           0.1111111111111111,
           "#46039f"
          ],
          [
           0.2222222222222222,
           "#7201a8"
          ],
          [
           0.3333333333333333,
           "#9c179e"
          ],
          [
           0.4444444444444444,
           "#bd3786"
          ],
          [
           0.5555555555555556,
           "#d8576b"
          ],
          [
           0.6666666666666666,
           "#ed7953"
          ],
          [
           0.7777777777777778,
           "#fb9f3a"
          ],
          [
           0.8888888888888888,
           "#fdca26"
          ],
          [
           1,
           "#f0f921"
          ]
         ]
        },
        "height": 600,
        "legend": {
         "tracegroupgap": 0
        },
        "paper_bgcolor": "rgba(0, 0, 0, 0)",
        "plot_bgcolor": "rgba(0, 0, 0, 0)",
        "showlegend": false,
        "template": {
         "data": {
          "pie": [
           {
            "automargin": true,
            "type": "pie"
           }
          ],
          "scatter": [
           {
            "line": {
             "width": 3
            },
            "marker": {
             "size": 9
            },
            "type": "scatter"
           }
          ],
          "scatter3d": [
           {
            "line": {
             "width": 3
            },
            "marker": {
             "size": 9
            },
            "type": "scatter3d"
           }
          ],
          "scattergeo": [
           {
            "line": {
             "width": 3
            },
            "marker": {
             "size": 9
            },
            "type": "scattergeo"
           }
          ],
          "scattergl": [
           {
            "line": {
             "width": 3
            },
            "marker": {
             "size": 9
            },
            "type": "scattergl"
           }
          ],
          "scatterpolar": [
           {
            "line": {
             "width": 3
            },
            "marker": {
             "size": 9
            },
            "type": "scatterpolar"
           }
          ],
          "scatterpolargl": [
           {
            "line": {
             "width": 3
            },
            "marker": {
             "size": 9
            },
            "type": "scatterpolargl"
           }
          ],
          "scatterternary": [
           {
            "line": {
             "width": 3
            },
            "marker": {
             "size": 9
            },
            "type": "scatterternary"
           }
          ],
          "table": [
           {
            "cells": {
             "height": 30
            },
            "header": {
             "height": 36
            },
            "type": "table"
           }
          ]
         },
         "layout": {
          "font": {
           "size": 18
          },
          "xaxis": {
           "title": {
            "standoff": 15
           }
          },
          "yaxis": {
           "title": {
            "standoff": 15
           }
          }
         }
        },
        "title": {
         "text": "Job Satisfaction Levels (%)"
        },
        "width": 700,
        "xaxis": {
         "anchor": "y",
         "autorange": true,
         "domain": [
          0,
          1
         ],
         "range": [
          0.5,
          4.5
         ],
         "title": {
          "text": "Satisfaction Level (1–4)"
         },
         "type": "linear"
        },
        "yaxis": {
         "anchor": "x",
         "autorange": true,
         "domain": [
          0,
          1
         ],
         "range": [
          0,
          32.87240504519956
         ],
         "title": {
          "text": "Percentage of Employees"
         },
         "type": "linear"
        }
       }
      },
      "image/png": "[encoded data removed]"
     },
     "metadata": {},
     "output_type": "display_data"
    }
   ],
   "source": [
    "job_satisfaction = HR_Analytics_df['JobSatisfaction'].value_counts(normalize=True).sort_index().reset_index()\n",
    "job_satisfaction.columns = ['Satisfaction Level', 'Percentage']\n",
    "job_satisfaction['Percentage'] *= 100\n",
    "\n",
    "fig = px.bar(job_satisfaction,\n",
    "             x='Satisfaction Level',\n",
    "             y='Percentage',\n",
    "             text='Percentage',\n",
    "             color='Satisfaction Level',\n",
    "             color_discrete_sequence=px.colors.sequential.Blues,\n",
    "             title='Job Satisfaction Levels (%)',\n",
    "             width=400,\n",
    "             height=400)\n",
    "\n",
    "fig.update_layout(template=\"presentation\",\n",
    "                  xaxis_title='Satisfaction Level (1–4)',\n",
    "                  yaxis_title='Percentage of Employees',\n",
    "                  width=700,\n",
    "                  height=600,\n",
    "                  showlegend=False,\n",
    "                  paper_bgcolor=\"rgba(0,0,0,0)\",\n",
    "                  plot_bgcolor=\"rgba(0,0,0,0)\")\n",
    "\n",
    "\n",
    "fig.update_traces(texttemplate='%{text:.2f}%', textposition='outside')\n",
    "fig.show()\n",
    "\n",
    "fig.write_image(os.path.join(results_dir, 'job_satisfaction.jpg'))\n",
    "fig.write_image(os.path.join(results_dir, 'job_satisfaction.png'))\n",
    "fig.write_html(os.path.join(results_dir, 'job_satisfaction.html'))\n"
   ]
  },
  {
   "cell_type": "code",
   "execution_count": 116,
   "id": "528dc64e-4b6a-42d0-af1a-bbdaf3476e4d",
   "metadata": {},
   "outputs": [
    {
     "data": {
      "application/vnd.plotly.v1+json": {
       "config": {
        "plotlyServerURL": "https://plot.ly"
       },
       "data": [
        {
         "hovertemplate": "JobLevel=%{marker.color}<br>MonthlyIncome=%{text}<extra></extra>",
         "legendgroup": "",
         "marker": {
          "color": {
           "_inputArray": {
            "0": 1,
            "1": 2,
            "2": 3,
            "3": 4,
            "4": 5,
            "bdata": "AQIDBAU=",
            "dtype": "i1",
            "shape": "5"
           },
           "bdata": "AQIDBAU=",
           "dtype": "i1"
          },
          "coloraxis": "coloraxis",
          "pattern": {
           "shape": ""
          }
         },
         "name": "",
         "orientation": "v",
         "showlegend": false,
         "text": {
          "_inputArray": {
           "0": 2787.2444852941176,
           "1": 5496.798130841122,
           "2": 9818.045662100456,
           "3": 15503.783018867925,
           "4": 19191.82608695652,
           "bdata": "LS0tLX3GpUCMhE1SzHi1QBB2QdgFLcNA8lb2OeRHzkB605ve9L3SQA==",
           "dtype": "f8",
           "shape": "5"
          },
          "bdata": "LS0tLX3GpUCMhE1SzHi1QBB2QdgFLcNA8lb2OeRHzkB605ve9L3SQA==",
          "dtype": "f8"
         },
         "textposition": "outside",
         "texttemplate": "%{text:.0f}",
         "type": "bar",
         "x": {
          "_inputArray": {
           "0": 1,
           "1": 2,
           "2": 3,
           "3": 4,
           "4": 5,
           "bdata": "AQIDBAU=",
           "dtype": "i1",
           "shape": "5"
          },
          "bdata": "AQIDBAU=",
          "dtype": "i1"
         },
         "xaxis": "x",
         "y": {
          "_inputArray": {
           "0": 2787.2444852941176,
           "1": 5496.798130841122,
           "2": 9818.045662100456,
           "3": 15503.783018867925,
           "4": 19191.82608695652,
           "bdata": "LS0tLX3GpUCMhE1SzHi1QBB2QdgFLcNA8lb2OeRHzkB605ve9L3SQA==",
           "dtype": "f8",
           "shape": "5"
          },
          "bdata": "LS0tLX3GpUCMhE1SzHi1QBB2QdgFLcNA8lb2OeRHzkB605ve9L3SQA==",
          "dtype": "f8"
         },
         "yaxis": "y"
        }
       ],
       "layout": {
        "barmode": "relative",
        "coloraxis": {
         "colorbar": {
          "title": {
           "text": "JobLevel"
          }
         },
         "colorscale": [
          [
           0,
           "#0d0887"
          ],
          [
           0.1111111111111111,
           "#46039f"
          ],
          [
           0.2222222222222222,
           "#7201a8"
          ],
          [
           0.3333333333333333,
           "#9c179e"
          ],
          [
           0.4444444444444444,
           "#bd3786"
          ],
          [
           0.5555555555555556,
           "#d8576b"
          ],
          [
           0.6666666666666666,
           "#ed7953"
          ],
          [
           0.7777777777777778,
           "#fb9f3a"
          ],
          [
           0.8888888888888888,
           "#fdca26"
          ],
          [
           1,
           "#f0f921"
          ]
         ]
        },
        "height": 700,
        "legend": {
         "tracegroupgap": 0
        },
        "paper_bgcolor": "rgba(0, 0, 0, 0)",
        "plot_bgcolor": "rgba(0, 0, 0, 0)",
        "showlegend": false,
        "template": {
         "data": {
          "pie": [
           {
            "automargin": true,
            "type": "pie"
           }
          ],
          "scatter": [
           {
            "line": {
             "width": 3
            },
            "marker": {
             "size": 9
            },
            "type": "scatter"
           }
          ],
          "scatter3d": [
           {
            "line": {
             "width": 3
            },
            "marker": {
             "size": 9
            },
            "type": "scatter3d"
           }
          ],
          "scattergeo": [
           {
            "line": {
             "width": 3
            },
            "marker": {
             "size": 9
            },
            "type": "scattergeo"
           }
          ],
          "scattergl": [
           {
            "line": {
             "width": 3
            },
            "marker": {
             "size": 9
            },
            "type": "scattergl"
           }
          ],
          "scatterpolar": [
           {
            "line": {
             "width": 3
            },
            "marker": {
             "size": 9
            },
            "type": "scatterpolar"
           }
          ],
          "scatterpolargl": [
           {
            "line": {
             "width": 3
            },
            "marker": {
             "size": 9
            },
            "type": "scatterpolargl"
           }
          ],
          "scatterternary": [
           {
            "line": {
             "width": 3
            },
            "marker": {
             "size": 9
            },
            "type": "scatterternary"
           }
          ],
          "table": [
           {
            "cells": {
             "height": 30
            },
            "header": {
             "height": 36
            },
            "type": "table"
           }
          ]
         },
         "layout": {
          "font": {
           "size": 18
          },
          "xaxis": {
           "title": {
            "standoff": 15
           }
          },
          "yaxis": {
           "title": {
            "standoff": 15
           }
          }
         }
        },
        "title": {
         "text": "Average Monthly Income by Job Level"
        },
        "width": 600,
        "xaxis": {
         "anchor": "y",
         "autorange": true,
         "domain": [
          0,
          1
         ],
         "range": [
          0.5,
          5.5
         ],
         "title": {
          "text": "Job Level"
         },
         "type": "linear"
        },
        "yaxis": {
         "anchor": "x",
         "autorange": true,
         "domain": [
          0,
          1
         ],
         "range": [
          0,
          20201.92219679634
         ],
         "title": {
          "text": "Average Monthly Income"
         },
         "type": "linear"
        }
       }
      },
      "image/png": "[encoded data removed]"
     },
     "metadata": {},
     "output_type": "display_data"
    }
   ],
   "source": [
    "income_by_level = HR_Analytics_df.groupby('JobLevel')['MonthlyIncome'].mean().reset_index()\n",
    "\n",
    "fig = px.bar(income_by_level,\n",
    "             x='JobLevel',\n",
    "             y='MonthlyIncome',\n",
    "             text='MonthlyIncome',\n",
    "             title='Average Monthly Income by Job Level',\n",
    "             color='JobLevel',\n",
    "             color_discrete_sequence=['red', 'green'],\n",
    "             width=600,\n",
    "             height=700)\n",
    "\n",
    "fig.update_layout(template=\"presentation\",\n",
    "                  xaxis_title='Job Level',\n",
    "                  yaxis_title='Average Monthly Income',\n",
    "                  showlegend=False,\n",
    "                  paper_bgcolor=\"rgba(0,0,0,0)\",\n",
    "                  plot_bgcolor=\"rgba(0,0,0,0)\")\n",
    "\n",
    "fig.update_traces(texttemplate='%{text:.0f}', textposition='outside')\n",
    "fig.show()\n",
    "\n",
    "fig.write_image(os.path.join(results_dir, 'income_by_joblevel.jpg'))\n",
    "fig.write_image(os.path.join(results_dir, 'income_by_joblevel.png'))\n",
    "fig.write_html(os.path.join(results_dir, 'income_by_joblevel.html'))\n"
   ]
  },
  {
   "cell_type": "code",
   "execution_count": 152,
   "id": "2ac5bf8e-1e35-4cd4-be58-0351b945efe6",
   "metadata": {},
   "outputs": [
    {
     "data": {
      "application/vnd.plotly.v1+json": {
       "config": {
        "plotlyServerURL": "https://plot.ly"
       },
       "data": [
        {
         "hovertemplate": "EducationField=%{x}<br>count=%{text}<br>JobLevel=%{marker.color}<extra></extra>",
         "legendgroup": "",
         "marker": {
          "color": {
           "_inputArray": {
            "0": 1,
            "1": 2,
            "10": 1,
            "11": 2,
            "12": 3,
            "13": 4,
            "14": 5,
            "15": 1,
            "16": 2,
            "17": 3,
            "18": 4,
            "19": 5,
            "2": 3,
            "20": 1,
            "21": 2,
            "22": 3,
            "23": 4,
            "24": 5,
            "25": 1,
            "26": 2,
            "27": 3,
            "28": 4,
            "29": 5,
            "3": 4,
            "4": 5,
            "5": 1,
            "6": 2,
            "7": 3,
            "8": 4,
            "9": 5,
            "bdata": "AQIDBAUBAgMEBQECAwQFAQIDBAUBAgMEBQECAwQF",
            "dtype": "i1",
            "shape": "30"
           },
           "bdata": "AQIDBAUBAgMEBQECAwQFAQIDBAUBAgMEBQECAwQF",
           "dtype": "i1"
          },
          "coloraxis": "coloraxis",
          "pattern": {
           "shape": ""
          }
         },
         "name": "",
         "orientation": "v",
         "showlegend": false,
         "text": {
          "_inputArray": {
           "0": 13,
           "1": 7,
           "10": 21,
           "11": 87,
           "12": 32,
           "13": 11,
           "14": 8,
           "15": 188,
           "16": 154,
           "17": 64,
           "18": 36,
           "19": 24,
           "2": 1,
           "20": 31,
           "21": 34,
           "22": 11,
           "23": 3,
           "24": 4,
           "25": 62,
           "26": 37,
           "27": 24,
           "28": 6,
           "29": 3,
           "3": 2,
           "4": 4,
           "5": 229,
           "6": 216,
           "7": 87,
           "8": 48,
           "9": 26,
           "bdata": "AAAAAAAAKkAAAAAAAAAcQAAAAAAAAPA/AAAAAAAAAEAAAAAAAAAQQAAAAAAAoGxAAAAAAAAAa0AAAAAAAMBVQAAAAAAAAEhAAAAAAAAAOkAAAAAAAAA1QAAAAAAAwFVAAAAAAAAAQEAAAAAAAAAmQAAAAAAAACBAAAAAAACAZ0AAAAAAAEBjQAAAAAAAAFBAAAAAAAAAQkAAAAAAAAA4QAAAAAAAAD9AAAAAAAAAQUAAAAAAAAAmQAAAAAAAAAhAAAAAAAAAEEAAAAAAAABPQAAAAAAAgEJAAAAAAAAAOEAAAAAAAAAYQAAAAAAAAAhA",
           "dtype": "f8",
           "shape": "30"
          },
          "bdata": "AAAAAAAAKkAAAAAAAAAcQAAAAAAAAPA/AAAAAAAAAEAAAAAAAAAQQAAAAAAAoGxAAAAAAAAAa0AAAAAAAMBVQAAAAAAAAEhAAAAAAAAAOkAAAAAAAAA1QAAAAAAAwFVAAAAAAAAAQEAAAAAAAAAmQAAAAAAAACBAAAAAAACAZ0AAAAAAAEBjQAAAAAAAAFBAAAAAAAAAQkAAAAAAAAA4QAAAAAAAAD9AAAAAAAAAQUAAAAAAAAAmQAAAAAAAAAhAAAAAAAAAEEAAAAAAAABPQAAAAAAAgEJAAAAAAAAAOEAAAAAAAAAYQAAAAAAAAAhA",
          "dtype": "f8"
         },
         "textposition": "inside",
         "texttemplate": "%{text}",
         "type": "bar",
         "x": [
          "Human Resources",
          "Human Resources",
          "Human Resources",
          "Human Resources",
          "Human Resources",
          "Life Sciences",
          "Life Sciences",
          "Life Sciences",
          "Life Sciences",
          "Life Sciences",
          "Marketing",
          "Marketing",
          "Marketing",
          "Marketing",
          "Marketing",
          "Medical",
          "Medical",
          "Medical",
          "Medical",
          "Medical",
          "Other",
          "Other",
          "Other",
          "Other",
          "Other",
          "Technical Degree",
          "Technical Degree",
          "Technical Degree",
          "Technical Degree",
          "Technical Degree"
         ],
         "xaxis": "x",
         "y": {
          "_inputArray": {
           "0": 13,
           "1": 7,
           "10": 21,
           "11": 87,
           "12": 32,
           "13": 11,
           "14": 8,
           "15": 188,
           "16": 154,
           "17": 64,
           "18": 36,
           "19": 24,
           "2": 1,
           "20": 31,
           "21": 34,
           "22": 11,
           "23": 3,
           "24": 4,
           "25": 62,
           "26": 37,
           "27": 24,
           "28": 6,
           "29": 3,
           "3": 2,
           "4": 4,
           "5": 229,
           "6": 216,
           "7": 87,
           "8": 48,
           "9": 26,
           "bdata": "DQAHAAEAAgAEAOUA2ABXADAAGgAVAFcAIAALAAgAvACaAEAAJAAYAB8AIgALAAMABAA+ACUAGAAGAAMA",
           "dtype": "i2",
           "shape": "30"
          },
          "bdata": "DQAHAAEAAgAEAOUA2ABXADAAGgAVAFcAIAALAAgAvACaAEAAJAAYAB8AIgALAAMABAA+ACUAGAAGAAMA",
          "dtype": "i2"
         },
         "yaxis": "y"
        }
       ],
       "layout": {
        "barmode": "stack",
        "coloraxis": {
         "colorbar": {
          "title": {
           "text": "JobLevel"
          }
         },
         "colorscale": [
          [
           0,
           "#0d0887"
          ],
          [
           0.1111111111111111,
           "#46039f"
          ],
          [
           0.2222222222222222,
           "#7201a8"
          ],
          [
           0.3333333333333333,
           "#9c179e"
          ],
          [
           0.4444444444444444,
           "#bd3786"
          ],
          [
           0.5555555555555556,
           "#d8576b"
          ],
          [
           0.6666666666666666,
           "#ed7953"
          ],
          [
           0.7777777777777778,
           "#fb9f3a"
          ],
          [
           0.8888888888888888,
           "#fdca26"
          ],
          [
           1,
           "#f0f921"
          ]
         ]
        },
        "height": 600,
        "legend": {
         "title": {
          "text": "Job Level"
         },
         "tracegroupgap": 0
        },
        "paper_bgcolor": "rgba(0, 0, 0, 0)",
        "plot_bgcolor": "rgba(0, 0, 0, 0)",
        "template": {
         "data": {
          "pie": [
           {
            "automargin": true,
            "type": "pie"
           }
          ],
          "scatter": [
           {
            "line": {
             "width": 3
            },
            "marker": {
             "size": 9
            },
            "type": "scatter"
           }
          ],
          "scatter3d": [
           {
            "line": {
             "width": 3
            },
            "marker": {
             "size": 9
            },
            "type": "scatter3d"
           }
          ],
          "scattergeo": [
           {
            "line": {
             "width": 3
            },
            "marker": {
             "size": 9
            },
            "type": "scattergeo"
           }
          ],
          "scattergl": [
           {
            "line": {
             "width": 3
            },
            "marker": {
             "size": 9
            },
            "type": "scattergl"
           }
          ],
          "scatterpolar": [
           {
            "line": {
             "width": 3
            },
            "marker": {
             "size": 9
            },
            "type": "scatterpolar"
           }
          ],
          "scatterpolargl": [
           {
            "line": {
             "width": 3
            },
            "marker": {
             "size": 9
            },
            "type": "scatterpolargl"
           }
          ],
          "scatterternary": [
           {
            "line": {
             "width": 3
            },
            "marker": {
             "size": 9
            },
            "type": "scatterternary"
           }
          ],
          "table": [
           {
            "cells": {
             "height": 30
            },
            "header": {
             "height": 36
            },
            "type": "table"
           }
          ]
         },
         "layout": {
          "font": {
           "size": 18
          },
          "xaxis": {
           "title": {
            "standoff": 15
           }
          },
          "yaxis": {
           "title": {
            "standoff": 15
           }
          }
         }
        },
        "title": {
         "text": "Distribution of Job Levels by Education Field"
        },
        "width": 900,
        "xaxis": {
         "anchor": "y",
         "autorange": true,
         "domain": [
          0,
          1
         ],
         "range": [
          -0.5,
          5.5
         ],
         "tickangle": 60,
         "tickfont": {
          "size": 11
         },
         "title": {
          "text": "Education Field"
         },
         "type": "category"
        },
        "yaxis": {
         "anchor": "x",
         "autorange": true,
         "domain": [
          0,
          1
         ],
         "range": [
          0,
          637.8947368421053
         ],
         "title": {
          "text": "Number of Employees"
         },
         "type": "linear"
        }
       }
      },
      "image/png": "[encoded data removed]"
     },
     "metadata": {},
     "output_type": "display_data"
    }
   ],
   "source": [
    "edu_job = HR_Analytics_df.groupby(['EducationField', 'JobLevel']).size().reset_index(name='count')\n",
    "\n",
    "fig = px.bar(\n",
    "    edu_job,\n",
    "    x='EducationField',\n",
    "    y='count',\n",
    "    color='JobLevel',\n",
    "    title='Distribution of Job Levels by Education Field',\n",
    "    barmode='stack',\n",
    "    text='count',\n",
    "    color_discrete_sequence=px.colors.qualitative.Set2,  \n",
    "    width=900,     \n",
    "    height=600     \n",
    ")\n",
    "\n",
    "fig.update_layout(\n",
    "    template='presentation',\n",
    "    xaxis_title='Education Field',\n",
    "    yaxis_title='Number of Employees',\n",
    "    xaxis_tickangle=60,             \n",
    "    xaxis_tickfont=dict(size=11),   \n",
    "    legend_title=dict(text='Job Level'),\n",
    "    paper_bgcolor=\"rgba(0,0,0,0)\",\n",
    "    plot_bgcolor=\"rgba(0,0,0,0)\"\n",
    ")\n",
    "\n",
    "fig.update_traces(texttemplate='%{text}', textposition='inside')\n",
    "\n",
    "fig.show()\n",
    "\n",
    "# Save visuals\n",
    "fig.write_image(os.path.join(results_dir, 'Joblevel_edufield.jpg'))\n",
    "fig.write_image(os.path.join(results_dir, 'Joblevel_edufield.png'))\n",
    "fig.write_html(os.path.join(results_dir, 'Joblevel_edufield.html'))\n"
   ]
  },
  {
   "cell_type": "code",
   "execution_count": 140,
   "id": "51b201df-79bf-47e1-a6c7-6db7a452586c",
   "metadata": {},
   "outputs": [
    {
     "data": {
      "application/vnd.plotly.v1+json": {
       "config": {
        "plotlyServerURL": "https://plot.ly"
       },
       "data": [
        {
         "hovertemplate": "JobRole=%{x}<br>count=%{text}<br>YearsSinceLastPromotion=%{marker.color}<extra></extra>",
         "legendgroup": "",
         "marker": {
          "color": {
           "_inputArray": {
            "0": 0,
            "1": 1,
            "10": 10,
            "100": 10,
            "101": 11,
            "102": 12,
            "103": 13,
            "104": 14,
            "105": 15,
            "106": 0,
            "107": 1,
            "108": 2,
            "109": 3,
            "11": 11,
            "110": 4,
            "111": 5,
            "112": 6,
            "113": 7,
            "12": 12,
            "13": 13,
            "14": 14,
            "15": 15,
            "16": 0,
            "17": 1,
            "18": 2,
            "19": 3,
            "2": 2,
            "20": 4,
            "21": 5,
            "22": 7,
            "23": 0,
            "24": 1,
            "25": 2,
            "26": 3,
            "27": 4,
            "28": 5,
            "29": 6,
            "3": 3,
            "30": 7,
            "31": 8,
            "32": 9,
            "33": 10,
            "34": 12,
            "35": 15,
            "36": 0,
            "37": 1,
            "38": 2,
            "39": 3,
            "4": 4,
            "40": 4,
            "41": 5,
            "42": 6,
            "43": 7,
            "44": 8,
            "45": 9,
            "46": 10,
            "47": 11,
            "48": 12,
            "49": 13,
            "5": 5,
            "50": 14,
            "51": 15,
            "52": 0,
            "53": 1,
            "54": 2,
            "55": 3,
            "56": 4,
            "57": 5,
            "58": 6,
            "59": 7,
            "6": 6,
            "60": 8,
            "61": 11,
            "62": 14,
            "63": 15,
            "64": 0,
            "65": 1,
            "66": 2,
            "67": 3,
            "68": 4,
            "69": 5,
            "7": 7,
            "70": 6,
            "71": 7,
            "72": 8,
            "73": 12,
            "74": 13,
            "75": 14,
            "76": 15,
            "77": 0,
            "78": 1,
            "79": 2,
            "8": 8,
            "80": 3,
            "81": 4,
            "82": 5,
            "83": 6,
            "84": 7,
            "85": 8,
            "86": 9,
            "87": 10,
            "88": 11,
            "89": 13,
            "9": 9,
            "90": 0,
            "91": 1,
            "92": 2,
            "93": 3,
            "94": 4,
            "95": 5,
            "96": 6,
            "97": 7,
            "98": 8,
            "99": 9,
            "bdata": "AAECAwQFBgcICQoLDA0ODwABAgMEBQcAAQIDBAUGBwgJCgwPAAECAwQFBgcICQoLDA0ODwABAgMEBQYHCAsODwABAgMEBQYHCAwNDg8AAQIDBAUGBwgJCgsNAAECAwQFBgcICQoLDA0ODwABAgMEBQYH",
            "dtype": "i1",
            "shape": "114"
           },
           "bdata": "AAECAwQFBgcICQoLDA0ODwABAgMEBQcAAQIDBAUGBwgJCgwPAAECAwQFBgcICQoLDA0ODwABAgMEBQYHCAsODwABAgMEBQYHCAwNDg8AAQIDBAUGBwgJCgsNAAECAwQFBgcICQoLDA0ODwABAgMEBQYH",
           "dtype": "i1"
          },
          "coloraxis": "coloraxis",
          "pattern": {
           "shape": ""
          }
         },
         "name": "",
         "orientation": "v",
         "showlegend": false,
         "text": {
          "_inputArray": {
           "0": 43,
           "1": 36,
           "10": 2,
           "100": 1,
           "101": 8,
           "102": 1,
           "103": 3,
           "104": 1,
           "105": 2,
           "106": 45,
           "107": 16,
           "108": 14,
           "109": 1,
           "11": 6,
           "110": 2,
           "111": 4,
           "112": 1,
           "113": 1,
           "12": 4,
           "13": 1,
           "14": 1,
           "15": 2,
           "16": 22,
           "17": 15,
           "18": 6,
           "19": 3,
           "2": 10,
           "20": 2,
           "21": 3,
           "22": 1,
           "23": 127,
           "24": 64,
           "25": 25,
           "26": 12,
           "27": 5,
           "28": 6,
           "29": 4,
           "3": 5,
           "30": 9,
           "31": 1,
           "32": 4,
           "33": 1,
           "34": 1,
           "35": 1,
           "36": 23,
           "37": 15,
           "38": 9,
           "39": 3,
           "4": 8,
           "40": 12,
           "41": 2,
           "42": 5,
           "43": 7,
           "44": 1,
           "45": 3,
           "46": 1,
           "47": 8,
           "48": 2,
           "49": 2,
           "5": 2,
           "50": 4,
           "51": 5,
           "52": 56,
           "53": 38,
           "54": 9,
           "55": 7,
           "56": 7,
           "57": 9,
           "58": 4,
           "59": 9,
           "6": 2,
           "60": 2,
           "61": 1,
           "62": 2,
           "63": 1,
           "64": 24,
           "65": 17,
           "66": 9,
           "67": 4,
           "68": 5,
           "69": 5,
           "7": 7,
           "70": 3,
           "71": 2,
           "72": 3,
           "73": 2,
           "74": 3,
           "75": 1,
           "76": 2,
           "77": 121,
           "78": 82,
           "79": 45,
           "8": 2,
           "80": 8,
           "81": 6,
           "82": 3,
           "83": 5,
           "84": 13,
           "85": 4,
           "86": 2,
           "87": 1,
           "88": 1,
           "89": 1,
           "9": 1,
           "90": 122,
           "91": 75,
           "92": 32,
           "93": 9,
           "94": 14,
           "95": 11,
           "96": 8,
           "97": 27,
           "98": 5,
           "99": 7,
           "bdata": "AAAAAACARUAAAAAAAABCQAAAAAAAACRAAAAAAAAAFEAAAAAAAAAgQAAAAAAAAABAAAAAAAAAAEAAAAAAAAAcQAAAAAAAAABAAAAAAAAA8D8AAAAAAAAAQAAAAAAAABhAAAAAAAAAEEAAAAAAAADwPwAAAAAAAPA/AAAAAAAAAEAAAAAAAAA2QAAAAAAAAC5AAAAAAAAAGEAAAAAAAAAIQAAAAAAAAABAAAAAAAAACEAAAAAAAADwPwAAAAAAwF9AAAAAAAAAUEAAAAAAAAA5QAAAAAAAAChAAAAAAAAAFEAAAAAAAAAYQAAAAAAAABBAAAAAAAAAIkAAAAAAAADwPwAAAAAAABBAAAAAAAAA8D8AAAAAAADwPwAAAAAAAPA/AAAAAAAAN0AAAAAAAAAuQAAAAAAAACJAAAAAAAAACEAAAAAAAAAoQAAAAAAAAABAAAAAAAAAFEAAAAAAAAAcQAAAAAAAAPA/AAAAAAAACEAAAAAAAADwPwAAAAAAACBAAAAAAAAAAEAAAAAAAAAAQAAAAAAAABBAAAAAAAAAFEAAAAAAAABMQAAAAAAAAENAAAAAAAAAIkAAAAAAAAAcQAAAAAAAABxAAAAAAAAAIkAAAAAAAAAQQAAAAAAAACJAAAAAAAAAAEAAAAAAAADwPwAAAAAAAABAAAAAAAAA8D8AAAAAAAA4QAAAAAAAADFAAAAAAAAAIkAAAAAAAAAQQAAAAAAAABRAAAAAAAAAFEAAAAAAAAAIQAAAAAAAAABAAAAAAAAACEAAAAAAAAAAQAAAAAAAAAhAAAAAAAAA8D8AAAAAAAAAQAAAAAAAQF5AAAAAAACAVEAAAAAAAIBGQAAAAAAAACBAAAAAAAAAGEAAAAAAAAAIQAAAAAAAABRAAAAAAAAAKkAAAAAAAAAQQAAAAAAAAABAAAAAAAAA8D8AAAAAAADwPwAAAAAAAPA/AAAAAACAXkAAAAAAAMBSQAAAAAAAAEBAAAAAAAAAIkAAAAAAAAAsQAAAAAAAACZAAAAAAAAAIEAAAAAAAAA7QAAAAAAAABRAAAAAAAAAHEAAAAAAAADwPwAAAAAAACBAAAAAAAAA8D8AAAAAAAAIQAAAAAAAAPA/AAAAAAAAAEAAAAAAAIBGQAAAAAAAADBAAAAAAAAALEAAAAAAAADwPwAAAAAAAABAAAAAAAAAEEAAAAAAAADwPwAAAAAAAPA/",
           "dtype": "f8",
           "shape": "114"
          },
          "bdata": "AAAAAACARUAAAAAAAABCQAAAAAAAACRAAAAAAAAAFEAAAAAAAAAgQAAAAAAAAABAAAAAAAAAAEAAAAAAAAAcQAAAAAAAAABAAAAAAAAA8D8AAAAAAAAAQAAAAAAAABhAAAAAAAAAEEAAAAAAAADwPwAAAAAAAPA/AAAAAAAAAEAAAAAAAAA2QAAAAAAAAC5AAAAAAAAAGEAAAAAAAAAIQAAAAAAAAABAAAAAAAAACEAAAAAAAADwPwAAAAAAwF9AAAAAAAAAUEAAAAAAAAA5QAAAAAAAAChAAAAAAAAAFEAAAAAAAAAYQAAAAAAAABBAAAAAAAAAIkAAAAAAAADwPwAAAAAAABBAAAAAAAAA8D8AAAAAAADwPwAAAAAAAPA/AAAAAAAAN0AAAAAAAAAuQAAAAAAAACJAAAAAAAAACEAAAAAAAAAoQAAAAAAAAABAAAAAAAAAFEAAAAAAAAAcQAAAAAAAAPA/AAAAAAAACEAAAAAAAADwPwAAAAAAACBAAAAAAAAAAEAAAAAAAAAAQAAAAAAAABBAAAAAAAAAFEAAAAAAAABMQAAAAAAAAENAAAAAAAAAIkAAAAAAAAAcQAAAAAAAABxAAAAAAAAAIkAAAAAAAAAQQAAAAAAAACJAAAAAAAAAAEAAAAAAAADwPwAAAAAAAABAAAAAAAAA8D8AAAAAAAA4QAAAAAAAADFAAAAAAAAAIkAAAAAAAAAQQAAAAAAAABRAAAAAAAAAFEAAAAAAAAAIQAAAAAAAAABAAAAAAAAACEAAAAAAAAAAQAAAAAAAAAhAAAAAAAAA8D8AAAAAAAAAQAAAAAAAQF5AAAAAAACAVEAAAAAAAIBGQAAAAAAAACBAAAAAAAAAGEAAAAAAAAAIQAAAAAAAABRAAAAAAAAAKkAAAAAAAAAQQAAAAAAAAABAAAAAAAAA8D8AAAAAAADwPwAAAAAAAPA/AAAAAACAXkAAAAAAAMBSQAAAAAAAAEBAAAAAAAAAIkAAAAAAAAAsQAAAAAAAACZAAAAAAAAAIEAAAAAAAAA7QAAAAAAAABRAAAAAAAAAHEAAAAAAAADwPwAAAAAAACBAAAAAAAAA8D8AAAAAAAAIQAAAAAAAAPA/AAAAAAAAAEAAAAAAAIBGQAAAAAAAADBAAAAAAAAALEAAAAAAAADwPwAAAAAAAABAAAAAAAAAEEAAAAAAAADwPwAAAAAAAPA/",
          "dtype": "f8"
         },
         "textposition": "inside",
         "texttemplate": "%{text}",
         "type": "bar",
         "x": [
          "Healthcare Representative",
          "Healthcare Representative",
          "Healthcare Representative",
          "Healthcare Representative",
          "Healthcare Representative",
          "Healthcare Representative",
          "Healthcare Representative",
          "Healthcare Representative",
          "Healthcare Representative",
          "Healthcare Representative",
          "Healthcare Representative",
          "Healthcare Representative",
          "Healthcare Representative",
          "Healthcare Representative",
          "Healthcare Representative",
          "Healthcare Representative",
          "Human Resources",
          "Human Resources",
          "Human Resources",
          "Human Resources",
          "Human Resources",
          "Human Resources",
          "Human Resources",
          "Laboratory Technician",
          "Laboratory Technician",
          "Laboratory Technician",
          "Laboratory Technician",
          "Laboratory Technician",
          "Laboratory Technician",
          "Laboratory Technician",
          "Laboratory Technician",
          "Laboratory Technician",
          "Laboratory Technician",
          "Laboratory Technician",
          "Laboratory Technician",
          "Laboratory Technician",
          "Manager",
          "Manager",
          "Manager",
          "Manager",
          "Manager",
          "Manager",
          "Manager",
          "Manager",
          "Manager",
          "Manager",
          "Manager",
          "Manager",
          "Manager",
          "Manager",
          "Manager",
          "Manager",
          "Manufacturing Director",
          "Manufacturing Director",
          "Manufacturing Director",
          "Manufacturing Director",
          "Manufacturing Director",
          "Manufacturing Director",
          "Manufacturing Director",
          "Manufacturing Director",
          "Manufacturing Director",
          "Manufacturing Director",
          "Manufacturing Director",
          "Manufacturing Director",
          "Research Director",
          "Research Director",
          "Research Director",
          "Research Director",
          "Research Director",
          "Research Director",
          "Research Director",
          "Research Director",
          "Research Director",
          "Research Director",
          "Research Director",
          "Research Director",
          "Research Director",
          "Research Scientist",
          "Research Scientist",
          "Research Scientist",
          "Research Scientist",
          "Research Scientist",
          "Research Scientist",
          "Research Scientist",
          "Research Scientist",
          "Research Scientist",
          "Research Scientist",
          "Research Scientist",
          "Research Scientist",
          "Research Scientist",
          "Sales Executive",
          "Sales Executive",
          "Sales Executive",
          "Sales Executive",
          "Sales Executive",
          "Sales Executive",
          "Sales Executive",
          "Sales Executive",
          "Sales Executive",
          "Sales Executive",
          "Sales Executive",
          "Sales Executive",
          "Sales Executive",
          "Sales Executive",
          "Sales Executive",
          "Sales Executive",
          "Sales Representative",
          "Sales Representative",
          "Sales Representative",
          "Sales Representative",
          "Sales Representative",
          "Sales Representative",
          "Sales Representative",
          "Sales Representative"
         ],
         "xaxis": "x",
         "y": {
          "_inputArray": {
           "0": 43,
           "1": 36,
           "10": 2,
           "100": 1,
           "101": 8,
           "102": 1,
           "103": 3,
           "104": 1,
           "105": 2,
           "106": 45,
           "107": 16,
           "108": 14,
           "109": 1,
           "11": 6,
           "110": 2,
           "111": 4,
           "112": 1,
           "113": 1,
           "12": 4,
           "13": 1,
           "14": 1,
           "15": 2,
           "16": 22,
           "17": 15,
           "18": 6,
           "19": 3,
           "2": 10,
           "20": 2,
           "21": 3,
           "22": 1,
           "23": 127,
           "24": 64,
           "25": 25,
           "26": 12,
           "27": 5,
           "28": 6,
           "29": 4,
           "3": 5,
           "30": 9,
           "31": 1,
           "32": 4,
           "33": 1,
           "34": 1,
           "35": 1,
           "36": 23,
           "37": 15,
           "38": 9,
           "39": 3,
           "4": 8,
           "40": 12,
           "41": 2,
           "42": 5,
           "43": 7,
           "44": 1,
           "45": 3,
           "46": 1,
           "47": 8,
           "48": 2,
           "49": 2,
           "5": 2,
           "50": 4,
           "51": 5,
           "52": 56,
           "53": 38,
           "54": 9,
           "55": 7,
           "56": 7,
           "57": 9,
           "58": 4,
           "59": 9,
           "6": 2,
           "60": 2,
           "61": 1,
           "62": 2,
           "63": 1,
           "64": 24,
           "65": 17,
           "66": 9,
           "67": 4,
           "68": 5,
           "69": 5,
           "7": 7,
           "70": 3,
           "71": 2,
           "72": 3,
           "73": 2,
           "74": 3,
           "75": 1,
           "76": 2,
           "77": 121,
           "78": 82,
           "79": 45,
           "8": 2,
           "80": 8,
           "81": 6,
           "82": 3,
           "83": 5,
           "84": 13,
           "85": 4,
           "86": 2,
           "87": 1,
           "88": 1,
           "89": 1,
           "9": 1,
           "90": 122,
           "91": 75,
           "92": 32,
           "93": 9,
           "94": 14,
           "95": 11,
           "96": 8,
           "97": 27,
           "98": 5,
           "99": 7,
           "bdata": "KyQKBQgCAgcCAQIGBAEBAhYPBgMCAwF/QBkMBQYECQEEAQEBFw8JAwwCBQcBAwEIAgIEBTgmCQcHCQQJAgECARgRCQQFBQMCAwIDAQJ5Ui0IBgMFDQQCAQEBeksgCQ4LCBsFBwEIAQMBAi0QDgECBAEB",
           "dtype": "i1",
           "shape": "114"
          },
          "bdata": "KyQKBQgCAgcCAQIGBAEBAhYPBgMCAwF/QBkMBQYECQEEAQEBFw8JAwwCBQcBAwEIAgIEBTgmCQcHCQQJAgECARgRCQQFBQMCAwIDAQJ5Ui0IBgMFDQQCAQEBeksgCQ4LCBsFBwEIAQMBAi0QDgECBAEB",
          "dtype": "i1"
         },
         "yaxis": "y"
        }
       ],
       "layout": {
        "barmode": "stack",
        "coloraxis": {
         "colorbar": {
          "title": {
           "text": "YearsSinceLastPromotion"
          }
         },
         "colorscale": [
          [
           0,
           "#0d0887"
          ],
          [
           0.1111111111111111,
           "#46039f"
          ],
          [
           0.2222222222222222,
           "#7201a8"
          ],
          [
           0.3333333333333333,
           "#9c179e"
          ],
          [
           0.4444444444444444,
           "#bd3786"
          ],
          [
           0.5555555555555556,
           "#d8576b"
          ],
          [
           0.6666666666666666,
           "#ed7953"
          ],
          [
           0.7777777777777778,
           "#fb9f3a"
          ],
          [
           0.8888888888888888,
           "#fdca26"
          ],
          [
           1,
           "#f0f921"
          ]
         ]
        },
        "height": 1000,
        "legend": {
         "title": {
          "text": "Years Since Last Promotion"
         },
         "tracegroupgap": 0
        },
        "paper_bgcolor": "rgba(0, 0, 0, 0)",
        "plot_bgcolor": "rgba(0, 0, 0, 0)",
        "template": {
         "data": {
          "pie": [
           {
            "automargin": true,
            "type": "pie"
           }
          ],
          "scatter": [
           {
            "line": {
             "width": 3
            },
            "marker": {
             "size": 9
            },
            "type": "scatter"
           }
          ],
          "scatter3d": [
           {
            "line": {
             "width": 3
            },
            "marker": {
             "size": 9
            },
            "type": "scatter3d"
           }
          ],
          "scattergeo": [
           {
            "line": {
             "width": 3
            },
            "marker": {
             "size": 9
            },
            "type": "scattergeo"
           }
          ],
          "scattergl": [
           {
            "line": {
             "width": 3
            },
            "marker": {
             "size": 9
            },
            "type": "scattergl"
           }
          ],
          "scatterpolar": [
           {
            "line": {
             "width": 3
            },
            "marker": {
             "size": 9
            },
            "type": "scatterpolar"
           }
          ],
          "scatterpolargl": [
           {
            "line": {
             "width": 3
            },
            "marker": {
             "size": 9
            },
            "type": "scatterpolargl"
           }
          ],
          "scatterternary": [
           {
            "line": {
             "width": 3
            },
            "marker": {
             "size": 9
            },
            "type": "scatterternary"
           }
          ],
          "table": [
           {
            "cells": {
             "height": 30
            },
            "header": {
             "height": 36
            },
            "type": "table"
           }
          ]
         },
         "layout": {
          "font": {
           "size": 18
          },
          "xaxis": {
           "title": {
            "standoff": 15
           }
          },
          "yaxis": {
           "title": {
            "standoff": 15
           }
          }
         }
        },
        "title": {
         "text": "Years Since Last Promotion by Job Role"
        },
        "width": 900,
        "xaxis": {
         "anchor": "y",
         "autorange": true,
         "domain": [
          0,
          1
         ],
         "range": [
          -0.5,
          8.5
         ],
         "tickangle": 20,
         "tickfont": {
          "size": 11
         },
         "title": {
          "text": ""
         },
         "type": "category"
        },
        "yaxis": {
         "anchor": "x",
         "autorange": true,
         "domain": [
          0,
          1
         ],
         "range": [
          0,
          343.1578947368421
         ],
         "title": {
          "text": "Employee Count"
         },
         "type": "linear"
        }
       }
      },
      "image/png": "[encoded data removed]"
     },
     "metadata": {},
     "output_type": "display_data"
    }
   ],
   "source": [
    "promo_by_role = HR_Analytics_df.groupby(['JobRole', 'YearsSinceLastPromotion']).size().reset_index(name='count')\n",
    "\n",
    "fig = px.bar(\n",
    "    promo_by_role,\n",
    "    x='JobRole',\n",
    "    y='count',\n",
    "    color='YearsSinceLastPromotion',\n",
    "    title='Years Since Last Promotion by Job Role',\n",
    "    barmode='stack',\n",
    "    text='count',\n",
    "    color_discrete_sequence=px.colors.qualitative.Set3,\n",
    "    width=900,   \n",
    "    height=1000  \n",
    ")\n",
    "\n",
    "fig.update_layout(\n",
    "    template='presentation',\n",
    "    xaxis_title='',  \n",
    "    yaxis_title='Employee Count',\n",
    "    xaxis_tickangle=20,           \n",
    "    xaxis_tickfont=dict(size=11), \n",
    "    legend_title=dict(text='Years Since Last Promotion'),\n",
    "    paper_bgcolor=\"rgba(0,0,0,0)\",\n",
    "    plot_bgcolor=\"rgba(0,0,0,0)\"\n",
    ")\n",
    "\n",
    "fig.update_traces(texttemplate='%{text}', textposition='inside')\n",
    "\n",
    "fig.show()\n",
    "\n",
    "# Save visuals\n",
    "fig.write_image(os.path.join(results_dir, 'promotion_job_role.jpg'))\n",
    "fig.write_image(os.path.join(results_dir, 'promotion_job_role.png'))\n",
    "fig.write_html(os.path.join(results_dir, 'promotion_job_role.html'))\n"
   ]
  },
  {
   "cell_type": "code",
   "execution_count": 146,
   "id": "ec2917f8-84a6-4a68-a39f-680ef15b870b",
   "metadata": {},
   "outputs": [
    {
     "data": {
      "application/vnd.plotly.v1+json": {
       "config": {
        "plotlyServerURL": "https://plot.ly"
       },
       "data": [
        {
         "hovertemplate": "JobSatisfaction=%{x}<br>count=%{text}<br>TotalWorkingYears=%{marker.color}<extra></extra>",
         "legendgroup": "",
         "marker": {
          "color": {
           "_inputArray": {
            "0": 1,
            "1": 2,
            "10": 11,
            "100": 27,
            "101": 28,
            "102": 29,
            "103": 30,
            "104": 31,
            "105": 32,
            "106": 33,
            "107": 34,
            "108": 36,
            "109": 38,
            "11": 12,
            "110": 0,
            "111": 1,
            "112": 2,
            "113": 3,
            "114": 4,
            "115": 5,
            "116": 6,
            "117": 7,
            "118": 8,
            "119": 9,
            "12": 13,
            "120": 10,
            "121": 11,
            "122": 12,
            "123": 13,
            "124": 14,
            "125": 15,
            "126": 16,
            "127": 17,
            "128": 18,
            "129": 19,
            "13": 14,
            "130": 20,
            "131": 21,
            "132": 22,
            "133": 23,
            "134": 24,
            "135": 25,
            "136": 26,
            "137": 27,
            "138": 28,
            "139": 29,
            "14": 15,
            "140": 30,
            "141": 31,
            "142": 32,
            "143": 33,
            "144": 34,
            "145": 35,
            "146": 36,
            "147": 37,
            "148": 40,
            "15": 16,
            "16": 17,
            "17": 18,
            "18": 19,
            "19": 20,
            "2": 3,
            "20": 21,
            "21": 22,
            "22": 23,
            "23": 24,
            "24": 25,
            "25": 26,
            "26": 27,
            "27": 28,
            "28": 31,
            "29": 32,
            "3": 4,
            "30": 33,
            "31": 34,
            "32": 36,
            "33": 37,
            "34": 0,
            "35": 1,
            "36": 2,
            "37": 3,
            "38": 4,
            "39": 5,
            "4": 5,
            "40": 6,
            "41": 7,
            "42": 8,
            "43": 9,
            "44": 10,
            "45": 11,
            "46": 12,
            "47": 13,
            "48": 14,
            "49": 15,
            "5": 6,
            "50": 16,
            "51": 17,
            "52": 18,
            "53": 19,
            "54": 20,
            "55": 21,
            "56": 22,
            "57": 23,
            "58": 24,
            "59": 25,
            "6": 7,
            "60": 26,
            "61": 27,
            "62": 28,
            "63": 29,
            "64": 30,
            "65": 31,
            "66": 32,
            "67": 33,
            "68": 34,
            "69": 35,
            "7": 8,
            "70": 36,
            "71": 37,
            "72": 40,
            "73": 0,
            "74": 1,
            "75": 2,
            "76": 3,
            "77": 4,
            "78": 5,
            "79": 6,
            "8": 9,
            "80": 7,
            "81": 8,
            "82": 9,
            "83": 10,
            "84": 11,
            "85": 12,
            "86": 13,
            "87": 14,
            "88": 15,
            "89": 16,
            "9": 10,
            "90": 17,
            "91": 18,
            "92": 19,
            "93": 20,
            "94": 21,
            "95": 22,
            "96": 23,
            "97": 24,
            "98": 25,
            "99": 26,
            "bdata": "AQIDBAUGBwgJCgsMDQ4PEBESExQVFhcYGRobHB8gISIkJQABAgMEBQYHCAkKCwwNDg8QERITFBUWFxgZGhscHR4fICEiIyQlKAABAgMEBQYHCAkKCwwNDg8QERITFBUWFxgZGhscHR4fICEiJCYAAQIDBAUGBwgJCgsMDQ4PEBESExQVFhcYGRobHB0eHyAhIiMkJSg=",
            "dtype": "i1",
            "shape": "149"
           },
           "bdata": "AQIDBAUGBwgJCgsMDQ4PEBESExQVFhcYGRobHB8gISIkJQABAgMEBQYHCAkKCwwNDg8QERITFBUWFxgZGhscHR4fICEiIyQlKAABAgMEBQYHCAkKCwwNDg8QERITFBUWFxgZGhscHR4fICEiJCYAAQIDBAUGBwgJCgsMDQ4PEBESExQVFhcYGRobHB0eHyAhIiMkJSg=",
           "dtype": "i1"
          },
          "coloraxis": "coloraxis",
          "pattern": {
           "shape": ""
          }
         },
         "name": "",
         "orientation": "v",
         "showlegend": false,
         "text": {
          "_inputArray": {
           "0": 16,
           "1": 4,
           "10": 9,
           "100": 4,
           "101": 4,
           "102": 3,
           "103": 2,
           "104": 1,
           "105": 2,
           "106": 2,
           "107": 1,
           "108": 1,
           "109": 1,
           "11": 4,
           "110": 5,
           "111": 22,
           "112": 9,
           "113": 21,
           "114": 16,
           "115": 22,
           "116": 38,
           "117": 26,
           "118": 36,
           "119": 30,
           "12": 6,
           "120": 62,
           "121": 11,
           "122": 23,
           "123": 10,
           "124": 13,
           "125": 12,
           "126": 14,
           "127": 10,
           "128": 7,
           "129": 7,
           "13": 3,
           "130": 4,
           "131": 8,
           "132": 3,
           "133": 8,
           "134": 7,
           "135": 5,
           "136": 5,
           "137": 1,
           "138": 3,
           "139": 2,
           "14": 9,
           "140": 4,
           "141": 4,
           "142": 4,
           "143": 2,
           "144": 1,
           "145": 1,
           "146": 2,
           "147": 1,
           "148": 1,
           "15": 8,
           "16": 10,
           "17": 8,
           "18": 3,
           "19": 8,
           "2": 4,
           "20": 7,
           "21": 7,
           "22": 2,
           "23": 7,
           "24": 3,
           "25": 1,
           "26": 1,
           "27": 3,
           "28": 3,
           "29": 2,
           "3": 10,
           "30": 1,
           "31": 2,
           "32": 1,
           "33": 1,
           "34": 1,
           "35": 23,
           "36": 7,
           "37": 7,
           "38": 16,
           "39": 12,
           "4": 19,
           "40": 26,
           "41": 17,
           "42": 21,
           "43": 12,
           "44": 28,
           "45": 8,
           "46": 11,
           "47": 9,
           "48": 7,
           "49": 7,
           "5": 27,
           "50": 9,
           "51": 4,
           "52": 5,
           "53": 4,
           "54": 3,
           "55": 6,
           "56": 5,
           "57": 3,
           "58": 1,
           "59": 2,
           "6": 11,
           "60": 3,
           "61": 1,
           "62": 4,
           "63": 5,
           "64": 1,
           "65": 1,
           "66": 1,
           "67": 2,
           "68": 1,
           "69": 2,
           "7": 18,
           "70": 2,
           "71": 2,
           "72": 1,
           "73": 5,
           "74": 20,
           "75": 11,
           "76": 10,
           "77": 21,
           "78": 36,
           "79": 34,
           "8": 29,
           "80": 27,
           "81": 28,
           "82": 26,
           "83": 69,
           "84": 8,
           "85": 10,
           "86": 11,
           "87": 8,
           "88": 12,
           "89": 6,
           "9": 43,
           "90": 10,
           "91": 7,
           "92": 8,
           "93": 15,
           "94": 13,
           "95": 6,
           "96": 9,
           "97": 3,
           "98": 4,
           "99": 5,
           "bdata": "AAAAAAAAMEAAAAAAAAAQQAAAAAAAABBAAAAAAAAAJEAAAAAAAAAzQAAAAAAAADtAAAAAAAAAJkAAAAAAAAAyQAAAAAAAAD1AAAAAAACARUAAAAAAAAAiQAAAAAAAABBAAAAAAAAAGEAAAAAAAAAIQAAAAAAAACJAAAAAAAAAIEAAAAAAAAAkQAAAAAAAACBAAAAAAAAACEAAAAAAAAAgQAAAAAAAABxAAAAAAAAAHEAAAAAAAAAAQAAAAAAAABxAAAAAAAAACEAAAAAAAADwPwAAAAAAAPA/AAAAAAAACEAAAAAAAAAIQAAAAAAAAABAAAAAAAAA8D8AAAAAAAAAQAAAAAAAAPA/AAAAAAAA8D8AAAAAAADwPwAAAAAAADdAAAAAAAAAHEAAAAAAAAAcQAAAAAAAADBAAAAAAAAAKEAAAAAAAAA6QAAAAAAAADFAAAAAAAAANUAAAAAAAAAoQAAAAAAAADxAAAAAAAAAIEAAAAAAAAAmQAAAAAAAACJAAAAAAAAAHEAAAAAAAAAcQAAAAAAAACJAAAAAAAAAEEAAAAAAAAAUQAAAAAAAABBAAAAAAAAACEAAAAAAAAAYQAAAAAAAABRAAAAAAAAACEAAAAAAAADwPwAAAAAAAABAAAAAAAAACEAAAAAAAADwPwAAAAAAABBAAAAAAAAAFEAAAAAAAADwPwAAAAAAAPA/AAAAAAAA8D8AAAAAAAAAQAAAAAAAAPA/AAAAAAAAAEAAAAAAAAAAQAAAAAAAAABAAAAAAAAA8D8AAAAAAAAUQAAAAAAAADRAAAAAAAAAJkAAAAAAAAAkQAAAAAAAADVAAAAAAAAAQkAAAAAAAABBQAAAAAAAADtAAAAAAAAAPEAAAAAAAAA6QAAAAAAAQFFAAAAAAAAAIEAAAAAAAAAkQAAAAAAAACZAAAAAAAAAIEAAAAAAAAAoQAAAAAAAABhAAAAAAAAAJEAAAAAAAAAcQAAAAAAAACBAAAAAAAAALkAAAAAAAAAqQAAAAAAAABhAAAAAAAAAIkAAAAAAAAAIQAAAAAAAABBAAAAAAAAAFEAAAAAAAAAQQAAAAAAAABBAAAAAAAAACEAAAAAAAAAAQAAAAAAAAPA/AAAAAAAAAEAAAAAAAAAAQAAAAAAAAPA/AAAAAAAA8D8AAAAAAADwPwAAAAAAABRAAAAAAAAANkAAAAAAAAAiQAAAAAAAADVAAAAAAAAAMEAAAAAAAAA2QAAAAAAAAENAAAAAAAAAOkAAAAAAAABCQAAAAAAAAD5AAAAAAAAAT0AAAAAAAAAmQAAAAAAAADdAAAAAAAAAJEAAAAAAAAAqQAAAAAAAAChAAAAAAAAALEAAAAAAAAAkQAAAAAAAABxAAAAAAAAAHEAAAAAAAAAQQAAAAAAAACBAAAAAAAAACEAAAAAAAAAgQAAAAAAAABxAAAAAAAAAFEAAAAAAAAAUQAAAAAAAAPA/AAAAAAAACEAAAAAAAAAAQAAAAAAAABBAAAAAAAAAEEAAAAAAAAAQQAAAAAAAAABAAAAAAAAA8D8AAAAAAADwPwAAAAAAAABAAAAAAAAA8D8AAAAAAADwPw==",
           "dtype": "f8",
           "shape": "149"
          },
          "bdata": "AAAAAAAAMEAAAAAAAAAQQAAAAAAAABBAAAAAAAAAJEAAAAAAAAAzQAAAAAAAADtAAAAAAAAAJkAAAAAAAAAyQAAAAAAAAD1AAAAAAACARUAAAAAAAAAiQAAAAAAAABBAAAAAAAAAGEAAAAAAAAAIQAAAAAAAACJAAAAAAAAAIEAAAAAAAAAkQAAAAAAAACBAAAAAAAAACEAAAAAAAAAgQAAAAAAAABxAAAAAAAAAHEAAAAAAAAAAQAAAAAAAABxAAAAAAAAACEAAAAAAAADwPwAAAAAAAPA/AAAAAAAACEAAAAAAAAAIQAAAAAAAAABAAAAAAAAA8D8AAAAAAAAAQAAAAAAAAPA/AAAAAAAA8D8AAAAAAADwPwAAAAAAADdAAAAAAAAAHEAAAAAAAAAcQAAAAAAAADBAAAAAAAAAKEAAAAAAAAA6QAAAAAAAADFAAAAAAAAANUAAAAAAAAAoQAAAAAAAADxAAAAAAAAAIEAAAAAAAAAmQAAAAAAAACJAAAAAAAAAHEAAAAAAAAAcQAAAAAAAACJAAAAAAAAAEEAAAAAAAAAUQAAAAAAAABBAAAAAAAAACEAAAAAAAAAYQAAAAAAAABRAAAAAAAAACEAAAAAAAADwPwAAAAAAAABAAAAAAAAACEAAAAAAAADwPwAAAAAAABBAAAAAAAAAFEAAAAAAAADwPwAAAAAAAPA/AAAAAAAA8D8AAAAAAAAAQAAAAAAAAPA/AAAAAAAAAEAAAAAAAAAAQAAAAAAAAABAAAAAAAAA8D8AAAAAAAAUQAAAAAAAADRAAAAAAAAAJkAAAAAAAAAkQAAAAAAAADVAAAAAAAAAQkAAAAAAAABBQAAAAAAAADtAAAAAAAAAPEAAAAAAAAA6QAAAAAAAQFFAAAAAAAAAIEAAAAAAAAAkQAAAAAAAACZAAAAAAAAAIEAAAAAAAAAoQAAAAAAAABhAAAAAAAAAJEAAAAAAAAAcQAAAAAAAACBAAAAAAAAALkAAAAAAAAAqQAAAAAAAABhAAAAAAAAAIkAAAAAAAAAIQAAAAAAAABBAAAAAAAAAFEAAAAAAAAAQQAAAAAAAABBAAAAAAAAACEAAAAAAAAAAQAAAAAAAAPA/AAAAAAAAAEAAAAAAAAAAQAAAAAAAAPA/AAAAAAAA8D8AAAAAAADwPwAAAAAAABRAAAAAAAAANkAAAAAAAAAiQAAAAAAAADVAAAAAAAAAMEAAAAAAAAA2QAAAAAAAAENAAAAAAAAAOkAAAAAAAABCQAAAAAAAAD5AAAAAAAAAT0AAAAAAAAAmQAAAAAAAADdAAAAAAAAAJEAAAAAAAAAqQAAAAAAAAChAAAAAAAAALEAAAAAAAAAkQAAAAAAAABxAAAAAAAAAHEAAAAAAAAAQQAAAAAAAACBAAAAAAAAACEAAAAAAAAAgQAAAAAAAABxAAAAAAAAAFEAAAAAAAAAUQAAAAAAAAPA/AAAAAAAACEAAAAAAAAAAQAAAAAAAABBAAAAAAAAAEEAAAAAAAAAQQAAAAAAAAABAAAAAAAAA8D8AAAAAAADwPwAAAAAAAABAAAAAAAAA8D8AAAAAAADwPw==",
          "dtype": "f8"
         },
         "textposition": "inside",
         "type": "bar",
         "x": {
          "_inputArray": {
           "0": 1,
           "1": 1,
           "10": 1,
           "100": 3,
           "101": 3,
           "102": 3,
           "103": 3,
           "104": 3,
           "105": 3,
           "106": 3,
           "107": 3,
           "108": 3,
           "109": 3,
           "11": 1,
           "110": 4,
           "111": 4,
           "112": 4,
           "113": 4,
           "114": 4,
           "115": 4,
           "116": 4,
           "117": 4,
           "118": 4,
           "119": 4,
           "12": 1,
           "120": 4,
           "121": 4,
           "122": 4,
           "123": 4,
           "124": 4,
           "125": 4,
           "126": 4,
           "127": 4,
           "128": 4,
           "129": 4,
           "13": 1,
           "130": 4,
           "131": 4,
           "132": 4,
           "133": 4,
           "134": 4,
           "135": 4,
           "136": 4,
           "137": 4,
           "138": 4,
           "139": 4,
           "14": 1,
           "140": 4,
           "141": 4,
           "142": 4,
           "143": 4,
           "144": 4,
           "145": 4,
           "146": 4,
           "147": 4,
           "148": 4,
           "15": 1,
           "16": 1,
           "17": 1,
           "18": 1,
           "19": 1,
           "2": 1,
           "20": 1,
           "21": 1,
           "22": 1,
           "23": 1,
           "24": 1,
           "25": 1,
           "26": 1,
           "27": 1,
           "28": 1,
           "29": 1,
           "3": 1,
           "30": 1,
           "31": 1,
           "32": 1,
           "33": 1,
           "34": 2,
           "35": 2,
           "36": 2,
           "37": 2,
           "38": 2,
           "39": 2,
           "4": 1,
           "40": 2,
           "41": 2,
           "42": 2,
           "43": 2,
           "44": 2,
           "45": 2,
           "46": 2,
           "47": 2,
           "48": 2,
           "49": 2,
           "5": 1,
           "50": 2,
           "51": 2,
           "52": 2,
           "53": 2,
           "54": 2,
           "55": 2,
           "56": 2,
           "57": 2,
           "58": 2,
           "59": 2,
           "6": 1,
           "60": 2,
           "61": 2,
           "62": 2,
           "63": 2,
           "64": 2,
           "65": 2,
           "66": 2,
           "67": 2,
           "68": 2,
           "69": 2,
           "7": 1,
           "70": 2,
           "71": 2,
           "72": 2,
           "73": 3,
           "74": 3,
           "75": 3,
           "76": 3,
           "77": 3,
           "78": 3,
           "79": 3,
           "8": 1,
           "80": 3,
           "81": 3,
           "82": 3,
           "83": 3,
           "84": 3,
           "85": 3,
           "86": 3,
           "87": 3,
           "88": 3,
           "89": 3,
           "9": 1,
           "90": 3,
           "91": 3,
           "92": 3,
           "93": 3,
           "94": 3,
           "95": 3,
           "96": 3,
           "97": 3,
           "98": 3,
           "99": 3,
           "bdata": "AQEBAQEBAQEBAQEBAQEBAQEBAQEBAQEBAQEBAQEBAQEBAQICAgICAgICAgICAgICAgICAgICAgICAgICAgICAgICAgICAgICAgMDAwMDAwMDAwMDAwMDAwMDAwMDAwMDAwMDAwMDAwMDAwMDAwMEBAQEBAQEBAQEBAQEBAQEBAQEBAQEBAQEBAQEBAQEBAQEBAQEBAQ=",
           "dtype": "i1",
           "shape": "149"
          },
          "bdata": "AQEBAQEBAQEBAQEBAQEBAQEBAQEBAQEBAQEBAQEBAQEBAQICAgICAgICAgICAgICAgICAgICAgICAgICAgICAgICAgICAgICAgMDAwMDAwMDAwMDAwMDAwMDAwMDAwMDAwMDAwMDAwMDAwMDAwMEBAQEBAQEBAQEBAQEBAQEBAQEBAQEBAQEBAQEBAQEBAQEBAQEBAQ=",
          "dtype": "i1"
         },
         "xaxis": "x",
         "y": {
          "_inputArray": {
           "0": 16,
           "1": 4,
           "10": 9,
           "100": 4,
           "101": 4,
           "102": 3,
           "103": 2,
           "104": 1,
           "105": 2,
           "106": 2,
           "107": 1,
           "108": 1,
           "109": 1,
           "11": 4,
           "110": 5,
           "111": 22,
           "112": 9,
           "113": 21,
           "114": 16,
           "115": 22,
           "116": 38,
           "117": 26,
           "118": 36,
           "119": 30,
           "12": 6,
           "120": 62,
           "121": 11,
           "122": 23,
           "123": 10,
           "124": 13,
           "125": 12,
           "126": 14,
           "127": 10,
           "128": 7,
           "129": 7,
           "13": 3,
           "130": 4,
           "131": 8,
           "132": 3,
           "133": 8,
           "134": 7,
           "135": 5,
           "136": 5,
           "137": 1,
           "138": 3,
           "139": 2,
           "14": 9,
           "140": 4,
           "141": 4,
           "142": 4,
           "143": 2,
           "144": 1,
           "145": 1,
           "146": 2,
           "147": 1,
           "148": 1,
           "15": 8,
           "16": 10,
           "17": 8,
           "18": 3,
           "19": 8,
           "2": 4,
           "20": 7,
           "21": 7,
           "22": 2,
           "23": 7,
           "24": 3,
           "25": 1,
           "26": 1,
           "27": 3,
           "28": 3,
           "29": 2,
           "3": 10,
           "30": 1,
           "31": 2,
           "32": 1,
           "33": 1,
           "34": 1,
           "35": 23,
           "36": 7,
           "37": 7,
           "38": 16,
           "39": 12,
           "4": 19,
           "40": 26,
           "41": 17,
           "42": 21,
           "43": 12,
           "44": 28,
           "45": 8,
           "46": 11,
           "47": 9,
           "48": 7,
           "49": 7,
           "5": 27,
           "50": 9,
           "51": 4,
           "52": 5,
           "53": 4,
           "54": 3,
           "55": 6,
           "56": 5,
           "57": 3,
           "58": 1,
           "59": 2,
           "6": 11,
           "60": 3,
           "61": 1,
           "62": 4,
           "63": 5,
           "64": 1,
           "65": 1,
           "66": 1,
           "67": 2,
           "68": 1,
           "69": 2,
           "7": 18,
           "70": 2,
           "71": 2,
           "72": 1,
           "73": 5,
           "74": 20,
           "75": 11,
           "76": 10,
           "77": 21,
           "78": 36,
           "79": 34,
           "8": 29,
           "80": 27,
           "81": 28,
           "82": 26,
           "83": 69,
           "84": 8,
           "85": 10,
           "86": 11,
           "87": 8,
           "88": 12,
           "89": 6,
           "9": 43,
           "90": 10,
           "91": 7,
           "92": 8,
           "93": 15,
           "94": 13,
           "95": 6,
           "96": 9,
           "97": 3,
           "98": 4,
           "99": 5,
           "bdata": "EAQEChMbCxIdKwkEBgMJCAoIAwgHBwIHAwEBAwMCAQIBAQEXBwcQDBoRFQwcCAsJBwcJBAUEAwYFAwECAwEEBQEBAQIBAgICAQUUCwoVJCIbHBpFCAoLCAwGCgcIDw0GCQMEBQQEAwIBAgIBAQEFFgkVEBYmGiQePgsXCg0MDgoHBwQIAwgHBQUBAwIEBAQCAQECAQE=",
           "dtype": "i1",
           "shape": "149"
          },
          "bdata": "EAQEChMbCxIdKwkEBgMJCAoIAwgHBwIHAwEBAwMCAQIBAQEXBwcQDBoRFQwcCAsJBwcJBAUEAwYFAwECAwEEBQEBAQIBAgICAQUUCwoVJCIbHBpFCAoLCAwGCgcIDw0GCQMEBQQEAwIBAgIBAQEFFgkVEBYmGiQePgsXCg0MDgoHBwQIAwgHBQUBAwIEBAQCAQECAQE=",
          "dtype": "i1"
         },
         "yaxis": "y"
        }
       ],
       "layout": {
        "barmode": "stack",
        "coloraxis": {
         "colorbar": {
          "title": {
           "text": "TotalWorkingYears"
          }
         },
         "colorscale": [
          [
           0,
           "#0d0887"
          ],
          [
           0.1111111111111111,
           "#46039f"
          ],
          [
           0.2222222222222222,
           "#7201a8"
          ],
          [
           0.3333333333333333,
           "#9c179e"
          ],
          [
           0.4444444444444444,
           "#bd3786"
          ],
          [
           0.5555555555555556,
           "#d8576b"
          ],
          [
           0.6666666666666666,
           "#ed7953"
          ],
          [
           0.7777777777777778,
           "#fb9f3a"
          ],
          [
           0.8888888888888888,
           "#fdca26"
          ],
          [
           1,
           "#f0f921"
          ]
         ]
        },
        "height": 1000,
        "legend": {
         "title": {
          "text": "Total Working Years"
         },
         "tracegroupgap": 0
        },
        "paper_bgcolor": "rgba(0, 0, 0, 0)",
        "plot_bgcolor": "rgba(0, 0, 0, 0)",
        "template": {
         "data": {
          "pie": [
           {
            "automargin": true,
            "type": "pie"
           }
          ],
          "scatter": [
           {
            "line": {
             "width": 3
            },
            "marker": {
             "size": 9
            },
            "type": "scatter"
           }
          ],
          "scatter3d": [
           {
            "line": {
             "width": 3
            },
            "marker": {
             "size": 9
            },
            "type": "scatter3d"
           }
          ],
          "scattergeo": [
           {
            "line": {
             "width": 3
            },
            "marker": {
             "size": 9
            },
            "type": "scattergeo"
           }
          ],
          "scattergl": [
           {
            "line": {
             "width": 3
            },
            "marker": {
             "size": 9
            },
            "type": "scattergl"
           }
          ],
          "scatterpolar": [
           {
            "line": {
             "width": 3
            },
            "marker": {
             "size": 9
            },
            "type": "scatterpolar"
           }
          ],
          "scatterpolargl": [
           {
            "line": {
             "width": 3
            },
            "marker": {
             "size": 9
            },
            "type": "scatterpolargl"
           }
          ],
          "scatterternary": [
           {
            "line": {
             "width": 3
            },
            "marker": {
             "size": 9
            },
            "type": "scatterternary"
           }
          ],
          "table": [
           {
            "cells": {
             "height": 30
            },
            "header": {
             "height": 36
            },
            "type": "table"
           }
          ]
         },
         "layout": {
          "font": {
           "size": 18
          },
          "xaxis": {
           "title": {
            "standoff": 15
           }
          },
          "yaxis": {
           "title": {
            "standoff": 15
           }
          }
         }
        },
        "title": {
         "text": "Job Satisfaction by Total Working Years"
        },
        "width": 900,
        "xaxis": {
         "anchor": "y",
         "autorange": true,
         "domain": [
          0,
          1
         ],
         "range": [
          0.5,
          4.5
         ],
         "title": {
          "text": "Job Satisfaction Level"
         },
         "type": "linear"
        },
        "yaxis": {
         "anchor": "x",
         "autorange": true,
         "domain": [
          0,
          1
         ],
         "range": [
          0,
          484.2105263157895
         ],
         "title": {
          "text": "Employee Count"
         },
         "type": "linear"
        }
       }
      },
      "image/png": "[encoded data removed]"
     },
     "metadata": {},
     "output_type": "display_data"
    }
   ],
   "source": [
    "exp_satis = HR_Analytics_df.groupby(['JobSatisfaction', 'TotalWorkingYears']).size().reset_index(name='count')\n",
    "\n",
    "fig = px.bar(\n",
    "    exp_satis,\n",
    "    x='JobSatisfaction',\n",
    "    y='count',\n",
    "    color='TotalWorkingYears',\n",
    "    title='Job Satisfaction by Total Working Years',\n",
    "    barmode='stack',\n",
    "    text='count',\n",
    "    color_discrete_sequence=px.colors.sequential.Mint\n",
    ")\n",
    "\n",
    "fig.update_layout(\n",
    "    template='presentation',\n",
    "    xaxis_title='Job Satisfaction Level',\n",
    "    yaxis_title='Employee Count',\n",
    "    legend_title=dict(text='Total Working Years'),\n",
    "    paper_bgcolor=\"rgba(0,0,0,0)\",\n",
    "    plot_bgcolor=\"rgba(0,0,0,0)\",\n",
    "     width=900,   \n",
    "    height=1000\n",
    "    \n",
    ")\n",
    "fig.update_traces(textposition='inside')\n",
    "fig.show()\n",
    "fig.write_image(os.path.join(results_dir, 'job_satisfaction_Level.jpg'))\n",
    "fig.write_image(os.path.join(results_dir, 'job_satisfaction_Level.png'))\n",
    "fig.write_html(os.path.join(results_dir, 'job_satisfaction_Level.html'))"
   ]
  },
  {
   "cell_type": "code",
   "execution_count": null,
   "id": "cd148d99-eff7-4946-a794-16e05b5ead6e",
   "metadata": {},
   "outputs": [],
   "source": []
  }
 ],
 "metadata": {
  "kernelspec": {
   "display_name": "Python 3 (ipykernel)",
   "language": "python",
   "name": "python3"
  },
  "language_info": {
   "codemirror_mode": {
    "name": "ipython",
    "version": 3
   },
   "file_extension": ".py",
   "mimetype": "text/x-python",
   "name": "python",
   "nbconvert_exporter": "python",
   "pygments_lexer": "ipython3",
   "version": "3.12.7"
  }
 },
 "nbformat": 4,
 "nbformat_minor": 5
}
